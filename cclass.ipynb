{
  "nbformat": 4,
  "nbformat_minor": 0,
  "metadata": {
    "colab": {
      "name": "cclass.ipynb",
      "provenance": [],
      "collapsed_sections": []
    },
    "kernelspec": {
      "name": "python3",
      "display_name": "Python 3"
    },
    "language_info": {
      "name": "python"
    }
  },
  "cells": [
    {
      "cell_type": "code",
      "metadata": {
        "id": "XN0xWlny3voU"
      },
      "source": [
        "import numpy as np\n",
        "import pandas as pd\n",
        "import matplotlib.pyplot as plt\n",
        "import seaborn as sns\n",
        "\n",
        "from sklearn.model_selection import train_test_split\n",
        "from sklearn.compose import ColumnTransformer\n",
        "from sklearn.pipeline import Pipeline\n",
        "from sklearn.preprocessing import MinMaxScaler, OneHotEncoder, OrdinalEncoder\n",
        "\n",
        "from sklearn.preprocessing import PolynomialFeatures\n",
        "\n",
        "from sklearn.linear_model import  LinearRegression, Lasso, Ridge\n",
        "from sklearn.neighbors import KNeighborsRegressor\n",
        "from sklearn.ensemble import RandomForestRegressor\n",
        "\n",
        "from sklearn.metrics import silhouette_score\n",
        "from sklearn.model_selection import cross_val_score\n",
        "from sklearn.model_selection import GridSearchCV,KFold\n",
        "from sklearn.pipeline import Pipeline\n",
        "\n",
        "from sklearn.decomposition import PCA\n",
        "from sklearn.cluster import KMeans\n",
        "from sklearn.cluster import DBSCAN\n",
        "\n",
        "from sklearn.impute import SimpleImputer\n",
        "from sklearn.metrics import accuracy_score, mean_squared_error,r2_score"
      ],
      "execution_count": 1,
      "outputs": []
    },
    {
      "cell_type": "code",
      "metadata": {
        "colab": {
          "resources": {
            "http://localhost:8080/nbextensions/google.colab/files.js": {
              "data": "Ly8gQ29weXJpZ2h0IDIwMTcgR29vZ2xlIExMQwovLwovLyBMaWNlbnNlZCB1bmRlciB0aGUgQXBhY2hlIExpY2Vuc2UsIFZlcnNpb24gMi4wICh0aGUgIkxpY2Vuc2UiKTsKLy8geW91IG1heSBub3QgdXNlIHRoaXMgZmlsZSBleGNlcHQgaW4gY29tcGxpYW5jZSB3aXRoIHRoZSBMaWNlbnNlLgovLyBZb3UgbWF5IG9idGFpbiBhIGNvcHkgb2YgdGhlIExpY2Vuc2UgYXQKLy8KLy8gICAgICBodHRwOi8vd3d3LmFwYWNoZS5vcmcvbGljZW5zZXMvTElDRU5TRS0yLjAKLy8KLy8gVW5sZXNzIHJlcXVpcmVkIGJ5IGFwcGxpY2FibGUgbGF3IG9yIGFncmVlZCB0byBpbiB3cml0aW5nLCBzb2Z0d2FyZQovLyBkaXN0cmlidXRlZCB1bmRlciB0aGUgTGljZW5zZSBpcyBkaXN0cmlidXRlZCBvbiBhbiAiQVMgSVMiIEJBU0lTLAovLyBXSVRIT1VUIFdBUlJBTlRJRVMgT1IgQ09ORElUSU9OUyBPRiBBTlkgS0lORCwgZWl0aGVyIGV4cHJlc3Mgb3IgaW1wbGllZC4KLy8gU2VlIHRoZSBMaWNlbnNlIGZvciB0aGUgc3BlY2lmaWMgbGFuZ3VhZ2UgZ292ZXJuaW5nIHBlcm1pc3Npb25zIGFuZAovLyBsaW1pdGF0aW9ucyB1bmRlciB0aGUgTGljZW5zZS4KCi8qKgogKiBAZmlsZW92ZXJ2aWV3IEhlbHBlcnMgZm9yIGdvb2dsZS5jb2xhYiBQeXRob24gbW9kdWxlLgogKi8KKGZ1bmN0aW9uKHNjb3BlKSB7CmZ1bmN0aW9uIHNwYW4odGV4dCwgc3R5bGVBdHRyaWJ1dGVzID0ge30pIHsKICBjb25zdCBlbGVtZW50ID0gZG9jdW1lbnQuY3JlYXRlRWxlbWVudCgnc3BhbicpOwogIGVsZW1lbnQudGV4dENvbnRlbnQgPSB0ZXh0OwogIGZvciAoY29uc3Qga2V5IG9mIE9iamVjdC5rZXlzKHN0eWxlQXR0cmlidXRlcykpIHsKICAgIGVsZW1lbnQuc3R5bGVba2V5XSA9IHN0eWxlQXR0cmlidXRlc1trZXldOwogIH0KICByZXR1cm4gZWxlbWVudDsKfQoKLy8gTWF4IG51bWJlciBvZiBieXRlcyB3aGljaCB3aWxsIGJlIHVwbG9hZGVkIGF0IGEgdGltZS4KY29uc3QgTUFYX1BBWUxPQURfU0laRSA9IDEwMCAqIDEwMjQ7CgpmdW5jdGlvbiBfdXBsb2FkRmlsZXMoaW5wdXRJZCwgb3V0cHV0SWQpIHsKICBjb25zdCBzdGVwcyA9IHVwbG9hZEZpbGVzU3RlcChpbnB1dElkLCBvdXRwdXRJZCk7CiAgY29uc3Qgb3V0cHV0RWxlbWVudCA9IGRvY3VtZW50LmdldEVsZW1lbnRCeUlkKG91dHB1dElkKTsKICAvLyBDYWNoZSBzdGVwcyBvbiB0aGUgb3V0cHV0RWxlbWVudCB0byBtYWtlIGl0IGF2YWlsYWJsZSBmb3IgdGhlIG5leHQgY2FsbAogIC8vIHRvIHVwbG9hZEZpbGVzQ29udGludWUgZnJvbSBQeXRob24uCiAgb3V0cHV0RWxlbWVudC5zdGVwcyA9IHN0ZXBzOwoKICByZXR1cm4gX3VwbG9hZEZpbGVzQ29udGludWUob3V0cHV0SWQpOwp9CgovLyBUaGlzIGlzIHJvdWdobHkgYW4gYXN5bmMgZ2VuZXJhdG9yIChub3Qgc3VwcG9ydGVkIGluIHRoZSBicm93c2VyIHlldCksCi8vIHdoZXJlIHRoZXJlIGFyZSBtdWx0aXBsZSBhc3luY2hyb25vdXMgc3RlcHMgYW5kIHRoZSBQeXRob24gc2lkZSBpcyBnb2luZwovLyB0byBwb2xsIGZvciBjb21wbGV0aW9uIG9mIGVhY2ggc3RlcC4KLy8gVGhpcyB1c2VzIGEgUHJvbWlzZSB0byBibG9jayB0aGUgcHl0aG9uIHNpZGUgb24gY29tcGxldGlvbiBvZiBlYWNoIHN0ZXAsCi8vIHRoZW4gcGFzc2VzIHRoZSByZXN1bHQgb2YgdGhlIHByZXZpb3VzIHN0ZXAgYXMgdGhlIGlucHV0IHRvIHRoZSBuZXh0IHN0ZXAuCmZ1bmN0aW9uIF91cGxvYWRGaWxlc0NvbnRpbnVlKG91dHB1dElkKSB7CiAgY29uc3Qgb3V0cHV0RWxlbWVudCA9IGRvY3VtZW50LmdldEVsZW1lbnRCeUlkKG91dHB1dElkKTsKICBjb25zdCBzdGVwcyA9IG91dHB1dEVsZW1lbnQuc3RlcHM7CgogIGNvbnN0IG5leHQgPSBzdGVwcy5uZXh0KG91dHB1dEVsZW1lbnQubGFzdFByb21pc2VWYWx1ZSk7CiAgcmV0dXJuIFByb21pc2UucmVzb2x2ZShuZXh0LnZhbHVlLnByb21pc2UpLnRoZW4oKHZhbHVlKSA9PiB7CiAgICAvLyBDYWNoZSB0aGUgbGFzdCBwcm9taXNlIHZhbHVlIHRvIG1ha2UgaXQgYXZhaWxhYmxlIHRvIHRoZSBuZXh0CiAgICAvLyBzdGVwIG9mIHRoZSBnZW5lcmF0b3IuCiAgICBvdXRwdXRFbGVtZW50Lmxhc3RQcm9taXNlVmFsdWUgPSB2YWx1ZTsKICAgIHJldHVybiBuZXh0LnZhbHVlLnJlc3BvbnNlOwogIH0pOwp9CgovKioKICogR2VuZXJhdG9yIGZ1bmN0aW9uIHdoaWNoIGlzIGNhbGxlZCBiZXR3ZWVuIGVhY2ggYXN5bmMgc3RlcCBvZiB0aGUgdXBsb2FkCiAqIHByb2Nlc3MuCiAqIEBwYXJhbSB7c3RyaW5nfSBpbnB1dElkIEVsZW1lbnQgSUQgb2YgdGhlIGlucHV0IGZpbGUgcGlja2VyIGVsZW1lbnQuCiAqIEBwYXJhbSB7c3RyaW5nfSBvdXRwdXRJZCBFbGVtZW50IElEIG9mIHRoZSBvdXRwdXQgZGlzcGxheS4KICogQHJldHVybiB7IUl0ZXJhYmxlPCFPYmplY3Q+fSBJdGVyYWJsZSBvZiBuZXh0IHN0ZXBzLgogKi8KZnVuY3Rpb24qIHVwbG9hZEZpbGVzU3RlcChpbnB1dElkLCBvdXRwdXRJZCkgewogIGNvbnN0IGlucHV0RWxlbWVudCA9IGRvY3VtZW50LmdldEVsZW1lbnRCeUlkKGlucHV0SWQpOwogIGlucHV0RWxlbWVudC5kaXNhYmxlZCA9IGZhbHNlOwoKICBjb25zdCBvdXRwdXRFbGVtZW50ID0gZG9jdW1lbnQuZ2V0RWxlbWVudEJ5SWQob3V0cHV0SWQpOwogIG91dHB1dEVsZW1lbnQuaW5uZXJIVE1MID0gJyc7CgogIGNvbnN0IHBpY2tlZFByb21pc2UgPSBuZXcgUHJvbWlzZSgocmVzb2x2ZSkgPT4gewogICAgaW5wdXRFbGVtZW50LmFkZEV2ZW50TGlzdGVuZXIoJ2NoYW5nZScsIChlKSA9PiB7CiAgICAgIHJlc29sdmUoZS50YXJnZXQuZmlsZXMpOwogICAgfSk7CiAgfSk7CgogIGNvbnN0IGNhbmNlbCA9IGRvY3VtZW50LmNyZWF0ZUVsZW1lbnQoJ2J1dHRvbicpOwogIGlucHV0RWxlbWVudC5wYXJlbnRFbGVtZW50LmFwcGVuZENoaWxkKGNhbmNlbCk7CiAgY2FuY2VsLnRleHRDb250ZW50ID0gJ0NhbmNlbCB1cGxvYWQnOwogIGNvbnN0IGNhbmNlbFByb21pc2UgPSBuZXcgUHJvbWlzZSgocmVzb2x2ZSkgPT4gewogICAgY2FuY2VsLm9uY2xpY2sgPSAoKSA9PiB7CiAgICAgIHJlc29sdmUobnVsbCk7CiAgICB9OwogIH0pOwoKICAvLyBXYWl0IGZvciB0aGUgdXNlciB0byBwaWNrIHRoZSBmaWxlcy4KICBjb25zdCBmaWxlcyA9IHlpZWxkIHsKICAgIHByb21pc2U6IFByb21pc2UucmFjZShbcGlja2VkUHJvbWlzZSwgY2FuY2VsUHJvbWlzZV0pLAogICAgcmVzcG9uc2U6IHsKICAgICAgYWN0aW9uOiAnc3RhcnRpbmcnLAogICAgfQogIH07CgogIGNhbmNlbC5yZW1vdmUoKTsKCiAgLy8gRGlzYWJsZSB0aGUgaW5wdXQgZWxlbWVudCBzaW5jZSBmdXJ0aGVyIHBpY2tzIGFyZSBub3QgYWxsb3dlZC4KICBpbnB1dEVsZW1lbnQuZGlzYWJsZWQgPSB0cnVlOwoKICBpZiAoIWZpbGVzKSB7CiAgICByZXR1cm4gewogICAgICByZXNwb25zZTogewogICAgICAgIGFjdGlvbjogJ2NvbXBsZXRlJywKICAgICAgfQogICAgfTsKICB9CgogIGZvciAoY29uc3QgZmlsZSBvZiBmaWxlcykgewogICAgY29uc3QgbGkgPSBkb2N1bWVudC5jcmVhdGVFbGVtZW50KCdsaScpOwogICAgbGkuYXBwZW5kKHNwYW4oZmlsZS5uYW1lLCB7Zm9udFdlaWdodDogJ2JvbGQnfSkpOwogICAgbGkuYXBwZW5kKHNwYW4oCiAgICAgICAgYCgke2ZpbGUudHlwZSB8fCAnbi9hJ30pIC0gJHtmaWxlLnNpemV9IGJ5dGVzLCBgICsKICAgICAgICBgbGFzdCBtb2RpZmllZDogJHsKICAgICAgICAgICAgZmlsZS5sYXN0TW9kaWZpZWREYXRlID8gZmlsZS5sYXN0TW9kaWZpZWREYXRlLnRvTG9jYWxlRGF0ZVN0cmluZygpIDoKICAgICAgICAgICAgICAgICAgICAgICAgICAgICAgICAgICAgJ24vYSd9IC0gYCkpOwogICAgY29uc3QgcGVyY2VudCA9IHNwYW4oJzAlIGRvbmUnKTsKICAgIGxpLmFwcGVuZENoaWxkKHBlcmNlbnQpOwoKICAgIG91dHB1dEVsZW1lbnQuYXBwZW5kQ2hpbGQobGkpOwoKICAgIGNvbnN0IGZpbGVEYXRhUHJvbWlzZSA9IG5ldyBQcm9taXNlKChyZXNvbHZlKSA9PiB7CiAgICAgIGNvbnN0IHJlYWRlciA9IG5ldyBGaWxlUmVhZGVyKCk7CiAgICAgIHJlYWRlci5vbmxvYWQgPSAoZSkgPT4gewogICAgICAgIHJlc29sdmUoZS50YXJnZXQucmVzdWx0KTsKICAgICAgfTsKICAgICAgcmVhZGVyLnJlYWRBc0FycmF5QnVmZmVyKGZpbGUpOwogICAgfSk7CiAgICAvLyBXYWl0IGZvciB0aGUgZGF0YSB0byBiZSByZWFkeS4KICAgIGxldCBmaWxlRGF0YSA9IHlpZWxkIHsKICAgICAgcHJvbWlzZTogZmlsZURhdGFQcm9taXNlLAogICAgICByZXNwb25zZTogewogICAgICAgIGFjdGlvbjogJ2NvbnRpbnVlJywKICAgICAgfQogICAgfTsKCiAgICAvLyBVc2UgYSBjaHVua2VkIHNlbmRpbmcgdG8gYXZvaWQgbWVzc2FnZSBzaXplIGxpbWl0cy4gU2VlIGIvNjIxMTU2NjAuCiAgICBsZXQgcG9zaXRpb24gPSAwOwogICAgZG8gewogICAgICBjb25zdCBsZW5ndGggPSBNYXRoLm1pbihmaWxlRGF0YS5ieXRlTGVuZ3RoIC0gcG9zaXRpb24sIE1BWF9QQVlMT0FEX1NJWkUpOwogICAgICBjb25zdCBjaHVuayA9IG5ldyBVaW50OEFycmF5KGZpbGVEYXRhLCBwb3NpdGlvbiwgbGVuZ3RoKTsKICAgICAgcG9zaXRpb24gKz0gbGVuZ3RoOwoKICAgICAgY29uc3QgYmFzZTY0ID0gYnRvYShTdHJpbmcuZnJvbUNoYXJDb2RlLmFwcGx5KG51bGwsIGNodW5rKSk7CiAgICAgIHlpZWxkIHsKICAgICAgICByZXNwb25zZTogewogICAgICAgICAgYWN0aW9uOiAnYXBwZW5kJywKICAgICAgICAgIGZpbGU6IGZpbGUubmFtZSwKICAgICAgICAgIGRhdGE6IGJhc2U2NCwKICAgICAgICB9LAogICAgICB9OwoKICAgICAgbGV0IHBlcmNlbnREb25lID0gZmlsZURhdGEuYnl0ZUxlbmd0aCA9PT0gMCA/CiAgICAgICAgICAxMDAgOgogICAgICAgICAgTWF0aC5yb3VuZCgocG9zaXRpb24gLyBmaWxlRGF0YS5ieXRlTGVuZ3RoKSAqIDEwMCk7CiAgICAgIHBlcmNlbnQudGV4dENvbnRlbnQgPSBgJHtwZXJjZW50RG9uZX0lIGRvbmVgOwoKICAgIH0gd2hpbGUgKHBvc2l0aW9uIDwgZmlsZURhdGEuYnl0ZUxlbmd0aCk7CiAgfQoKICAvLyBBbGwgZG9uZS4KICB5aWVsZCB7CiAgICByZXNwb25zZTogewogICAgICBhY3Rpb246ICdjb21wbGV0ZScsCiAgICB9CiAgfTsKfQoKc2NvcGUuZ29vZ2xlID0gc2NvcGUuZ29vZ2xlIHx8IHt9OwpzY29wZS5nb29nbGUuY29sYWIgPSBzY29wZS5nb29nbGUuY29sYWIgfHwge307CnNjb3BlLmdvb2dsZS5jb2xhYi5fZmlsZXMgPSB7CiAgX3VwbG9hZEZpbGVzLAogIF91cGxvYWRGaWxlc0NvbnRpbnVlLAp9Owp9KShzZWxmKTsK",
              "ok": true,
              "headers": [
                [
                  "content-type",
                  "application/javascript"
                ]
              ],
              "status": 200,
              "status_text": ""
            }
          },
          "base_uri": "https://localhost:8080/",
          "height": 55
        },
        "id": "p6JfF3Zw37Go",
        "outputId": "aae39d5f-47f8-4de7-b4cd-fbdacdf8494e"
      },
      "source": [
        "from google.colab import files\n",
        "files.upload()"
      ],
      "execution_count": 2,
      "outputs": [
        {
          "output_type": "display_data",
          "data": {
            "text/html": [
              "\n",
              "     <input type=\"file\" id=\"files-9ce46996-be04-449e-b161-e48e9f3f24c5\" name=\"files[]\" multiple disabled\n",
              "        style=\"border:none\" />\n",
              "     <output id=\"result-9ce46996-be04-449e-b161-e48e9f3f24c5\">\n",
              "      Upload widget is only available when the cell has been executed in the\n",
              "      current browser session. Please rerun this cell to enable.\n",
              "      </output>\n",
              "      <script src=\"/nbextensions/google.colab/files.js\"></script> "
            ],
            "text/plain": [
              "<IPython.core.display.HTML object>"
            ]
          },
          "metadata": {
            "tags": []
          }
        },
        {
          "output_type": "execute_result",
          "data": {
            "text/plain": [
              "{}"
            ]
          },
          "metadata": {
            "tags": []
          },
          "execution_count": 2
        }
      ]
    },
    {
      "cell_type": "markdown",
      "metadata": {
        "id": "bPNm2b7e4Wwe"
      },
      "source": [
        "### 1. Poblem Framming"
      ]
    },
    {
      "cell_type": "markdown",
      "metadata": {
        "id": "atMmbh994Ovm"
      },
      "source": [
        "\n",
        "Case Study: UK Used CClass Cars\n",
        "Soal : Dataset yang digunakan merupakan listing mobil Mercedec CCclass bekas yang diperjualbelikan di Britania Raya. Terdapat sekitar 4.000 mobil CClass bekas di dalam listing tersebut. kalian dapat mempelajari dataset ini dengan lebih lanjut di halaman ini.\n",
        "\n",
        "**Business objective** yang akan dicapai yaitu memprediksi harga mobil Mercedec CCclass bekas, dengan bbrpa spesifikasi sebgai berikut yaitu : mileage, transmissi, engines size, fuel\n",
        "\n",
        "**Output** User dapat, memperkirakan variabel mana yang perlu diperhitungkan sebelum membeli mobil bekas\n",
        "\n",
        "**Machine learning** yang digunakan dalam kasus ini yaitu kasus regresi, model machine learning yang digunakan yaitu : Linear Reggresion, Knn, dan ensemble Random Forrest\n",
        "\n",
        "**Perfomnce meassure** yang digunakan dalam kasus ini yaitu : r2, mse (mean square error), dan rmse (root mean square error)\n",
        "\n",
        "**Resiko** yang mungkin ditimbulkan dari project ini kesalahan memprediksi harga mobil, user perlu mempertimbangka juga tahun mobil dan mileage pada mobil Mercedes CCclass ini"
      ]
    },
    {
      "cell_type": "markdown",
      "metadata": {
        "id": "OmHlkeUe58J6"
      },
      "source": [
        "### 2. EDA"
      ]
    },
    {
      "cell_type": "code",
      "metadata": {
        "id": "RtLfXOM74ELx"
      },
      "source": [
        "df = pd.read_csv('unclean cclass.csv')"
      ],
      "execution_count": 3,
      "outputs": []
    },
    {
      "cell_type": "code",
      "metadata": {
        "colab": {
          "base_uri": "https://localhost:8080/",
          "height": 204
        },
        "id": "bwcJKz0X4jN8",
        "outputId": "be678c4e-b191-436d-b41f-90c8aef38183"
      },
      "source": [
        "df.head()"
      ],
      "execution_count": 4,
      "outputs": [
        {
          "output_type": "execute_result",
          "data": {
            "text/html": [
              "<div>\n",
              "<style scoped>\n",
              "    .dataframe tbody tr th:only-of-type {\n",
              "        vertical-align: middle;\n",
              "    }\n",
              "\n",
              "    .dataframe tbody tr th {\n",
              "        vertical-align: top;\n",
              "    }\n",
              "\n",
              "    .dataframe thead th {\n",
              "        text-align: right;\n",
              "    }\n",
              "</style>\n",
              "<table border=\"1\" class=\"dataframe\">\n",
              "  <thead>\n",
              "    <tr style=\"text-align: right;\">\n",
              "      <th></th>\n",
              "      <th>model</th>\n",
              "      <th>year</th>\n",
              "      <th>price</th>\n",
              "      <th>transmission</th>\n",
              "      <th>mileage</th>\n",
              "      <th>fuel type</th>\n",
              "      <th>engine size</th>\n",
              "      <th>mileage2</th>\n",
              "      <th>fuel type2</th>\n",
              "      <th>engine size2</th>\n",
              "      <th>reference</th>\n",
              "    </tr>\n",
              "  </thead>\n",
              "  <tbody>\n",
              "    <tr>\n",
              "      <th>0</th>\n",
              "      <td>C Class</td>\n",
              "      <td>2020.0</td>\n",
              "      <td>£30,495</td>\n",
              "      <td>Automatic</td>\n",
              "      <td>NaN</td>\n",
              "      <td>Diesel</td>\n",
              "      <td>2</td>\n",
              "      <td>1,200</td>\n",
              "      <td>NaN</td>\n",
              "      <td>NaN</td>\n",
              "      <td>/ad/25017331</td>\n",
              "    </tr>\n",
              "    <tr>\n",
              "      <th>1</th>\n",
              "      <td>C Class</td>\n",
              "      <td>2020.0</td>\n",
              "      <td>£29,989</td>\n",
              "      <td>Automatic</td>\n",
              "      <td>NaN</td>\n",
              "      <td>Petrol</td>\n",
              "      <td>1.5</td>\n",
              "      <td>1,000</td>\n",
              "      <td>NaN</td>\n",
              "      <td>NaN</td>\n",
              "      <td>/ad/25043746</td>\n",
              "    </tr>\n",
              "    <tr>\n",
              "      <th>2</th>\n",
              "      <td>C Class</td>\n",
              "      <td>2020.0</td>\n",
              "      <td>£37,899</td>\n",
              "      <td>Automatic</td>\n",
              "      <td>NaN</td>\n",
              "      <td>Diesel</td>\n",
              "      <td>2</td>\n",
              "      <td>500</td>\n",
              "      <td>NaN</td>\n",
              "      <td>NaN</td>\n",
              "      <td>/ad/25142894</td>\n",
              "    </tr>\n",
              "    <tr>\n",
              "      <th>3</th>\n",
              "      <td>C Class</td>\n",
              "      <td>2019.0</td>\n",
              "      <td>£30,399</td>\n",
              "      <td>Automatic</td>\n",
              "      <td>NaN</td>\n",
              "      <td>Diesel</td>\n",
              "      <td>2</td>\n",
              "      <td>5,000</td>\n",
              "      <td>NaN</td>\n",
              "      <td>NaN</td>\n",
              "      <td>/ad/24942816</td>\n",
              "    </tr>\n",
              "    <tr>\n",
              "      <th>4</th>\n",
              "      <td>C Class</td>\n",
              "      <td>2019.0</td>\n",
              "      <td>£29,899</td>\n",
              "      <td>Automatic</td>\n",
              "      <td>NaN</td>\n",
              "      <td>Diesel</td>\n",
              "      <td>2</td>\n",
              "      <td>4,500</td>\n",
              "      <td>NaN</td>\n",
              "      <td>NaN</td>\n",
              "      <td>/ad/24913660</td>\n",
              "    </tr>\n",
              "  </tbody>\n",
              "</table>\n",
              "</div>"
            ],
            "text/plain": [
              "      model    year     price  ... fuel type2 engine size2     reference\n",
              "0   C Class  2020.0   £30,495  ...        NaN          NaN  /ad/25017331\n",
              "1   C Class  2020.0   £29,989  ...        NaN          NaN  /ad/25043746\n",
              "2   C Class  2020.0   £37,899  ...        NaN          NaN  /ad/25142894\n",
              "3   C Class  2019.0   £30,399  ...        NaN          NaN  /ad/24942816\n",
              "4   C Class  2019.0   £29,899  ...        NaN          NaN  /ad/24913660\n",
              "\n",
              "[5 rows x 11 columns]"
            ]
          },
          "metadata": {
            "tags": []
          },
          "execution_count": 4
        }
      ]
    },
    {
      "cell_type": "code",
      "metadata": {
        "colab": {
          "base_uri": "https://localhost:8080/"
        },
        "id": "w4LbGr264kYB",
        "outputId": "b648712f-d036-4d39-d495-e2dd9f88605d"
      },
      "source": [
        "df.info()"
      ],
      "execution_count": 5,
      "outputs": [
        {
          "output_type": "stream",
          "text": [
            "<class 'pandas.core.frame.DataFrame'>\n",
            "RangeIndex: 4006 entries, 0 to 4005\n",
            "Data columns (total 11 columns):\n",
            " #   Column        Non-Null Count  Dtype  \n",
            "---  ------        --------------  -----  \n",
            " 0   model         3907 non-null   object \n",
            " 1   year          3904 non-null   float64\n",
            " 2   price         3907 non-null   object \n",
            " 3   transmission  3907 non-null   object \n",
            " 4   mileage       3808 non-null   object \n",
            " 5   fuel type     1329 non-null   object \n",
            " 6   engine size   3842 non-null   object \n",
            " 7   mileage2      3890 non-null   object \n",
            " 8   fuel type2    3808 non-null   object \n",
            " 9   engine size2  3808 non-null   object \n",
            " 10  reference     3907 non-null   object \n",
            "dtypes: float64(1), object(10)\n",
            "memory usage: 344.4+ KB\n"
          ],
          "name": "stdout"
        }
      ]
    },
    {
      "cell_type": "code",
      "metadata": {
        "colab": {
          "base_uri": "https://localhost:8080/",
          "height": 297
        },
        "id": "6M2B8K8Z4obB",
        "outputId": "88e86a1c-0724-4aed-936b-6f60bfbf4c52"
      },
      "source": [
        "df.describe()"
      ],
      "execution_count": 6,
      "outputs": [
        {
          "output_type": "execute_result",
          "data": {
            "text/html": [
              "<div>\n",
              "<style scoped>\n",
              "    .dataframe tbody tr th:only-of-type {\n",
              "        vertical-align: middle;\n",
              "    }\n",
              "\n",
              "    .dataframe tbody tr th {\n",
              "        vertical-align: top;\n",
              "    }\n",
              "\n",
              "    .dataframe thead th {\n",
              "        text-align: right;\n",
              "    }\n",
              "</style>\n",
              "<table border=\"1\" class=\"dataframe\">\n",
              "  <thead>\n",
              "    <tr style=\"text-align: right;\">\n",
              "      <th></th>\n",
              "      <th>year</th>\n",
              "    </tr>\n",
              "  </thead>\n",
              "  <tbody>\n",
              "    <tr>\n",
              "      <th>count</th>\n",
              "      <td>3904.000000</td>\n",
              "    </tr>\n",
              "    <tr>\n",
              "      <th>mean</th>\n",
              "      <td>2017.341189</td>\n",
              "    </tr>\n",
              "    <tr>\n",
              "      <th>std</th>\n",
              "      <td>2.213643</td>\n",
              "    </tr>\n",
              "    <tr>\n",
              "      <th>min</th>\n",
              "      <td>1991.000000</td>\n",
              "    </tr>\n",
              "    <tr>\n",
              "      <th>25%</th>\n",
              "      <td>2016.000000</td>\n",
              "    </tr>\n",
              "    <tr>\n",
              "      <th>50%</th>\n",
              "      <td>2018.000000</td>\n",
              "    </tr>\n",
              "    <tr>\n",
              "      <th>75%</th>\n",
              "      <td>2019.000000</td>\n",
              "    </tr>\n",
              "    <tr>\n",
              "      <th>max</th>\n",
              "      <td>2020.000000</td>\n",
              "    </tr>\n",
              "  </tbody>\n",
              "</table>\n",
              "</div>"
            ],
            "text/plain": [
              "              year\n",
              "count  3904.000000\n",
              "mean   2017.341189\n",
              "std       2.213643\n",
              "min    1991.000000\n",
              "25%    2016.000000\n",
              "50%    2018.000000\n",
              "75%    2019.000000\n",
              "max    2020.000000"
            ]
          },
          "metadata": {
            "tags": []
          },
          "execution_count": 6
        }
      ]
    },
    {
      "cell_type": "code",
      "metadata": {
        "colab": {
          "base_uri": "https://localhost:8080/"
        },
        "id": "86D0Z9V8YUhj",
        "outputId": "127bfecd-1869-416f-fe79-1d759ecf4c7a"
      },
      "source": [
        "for i in df.columns:\n",
        "    print(i)\n",
        "    print(df[i].value_counts())\n",
        "    print('\\n')"
      ],
      "execution_count": 66,
      "outputs": [
        {
          "output_type": "stream",
          "text": [
            "model\n",
            " C Class    3907\n",
            "Name: model, dtype: int64\n",
            "\n",
            "\n",
            "year\n",
            "2019.0    1590\n",
            "2017.0     666\n",
            "2016.0     545\n",
            "2018.0     362\n",
            "2015.0     321\n",
            "2014.0     136\n",
            "2020.0     130\n",
            "2013.0      64\n",
            "2012.0      26\n",
            "2011.0      13\n",
            "2010.0      10\n",
            "2008.0       8\n",
            "2007.0       7\n",
            "2009.0       7\n",
            "2005.0       5\n",
            "2002.0       4\n",
            "2004.0       3\n",
            "2006.0       3\n",
            "1991.0       1\n",
            "1998.0       1\n",
            "2003.0       1\n",
            "1995.0       1\n",
            "Name: year, dtype: int64\n",
            "\n",
            "\n",
            "price\n",
            " £14,000    24\n",
            " £19,999    19\n",
            " £29,980    19\n",
            " £12,000    18\n",
            " £20,299    18\n",
            "            ..\n",
            " £23,099     1\n",
            " £3,495      1\n",
            " £18,970     1\n",
            " £13,980     1\n",
            " £37,946     1\n",
            "Name: price, Length: 1846, dtype: int64\n",
            "\n",
            "\n",
            "transmission\n",
            "Semi-Auto    2071\n",
            "Automatic    1636\n",
            "Manual        199\n",
            "Other           1\n",
            "Name: transmission, dtype: int64\n",
            "\n",
            "\n",
            "mileage\n",
            "1,000     81\n",
            "2,000     21\n",
            "16        20\n",
            "100       17\n",
            "3,000     16\n",
            "          ..\n",
            "51,936     1\n",
            "13,567     1\n",
            "7,163      1\n",
            "38,824     1\n",
            "19,488     1\n",
            "Name: mileage, Length: 3175, dtype: int64\n",
            "\n",
            "\n",
            "fuel type\n",
            "31        310\n",
            "32        240\n",
            "38        174\n",
            "37        101\n",
            "Diesel     83\n",
            "30         76\n",
            "25         65\n",
            "29         57\n",
            "33         50\n",
            "34         29\n",
            "26         25\n",
            "39         17\n",
            "36         17\n",
            "43         13\n",
            "Petrol     13\n",
            "27         12\n",
            "35         12\n",
            "40          8\n",
            "44          6\n",
            "24          4\n",
            "46          4\n",
            "45          3\n",
            "47          3\n",
            "28          3\n",
            "Hybrid      3\n",
            "48          1\n",
            "Name: fuel type, dtype: int64\n",
            "\n",
            "\n",
            "engine size\n",
            "£145      2203\n",
            "£30        471\n",
            "£20        320\n",
            "£125       184\n",
            "£145       130\n",
            "£150       123\n",
            "£0         119\n",
            "2.1         49\n",
            "£160        39\n",
            "£300        32\n",
            "£150        21\n",
            "£260        20\n",
            "£200        15\n",
            "£135        14\n",
            "2143        12\n",
            "2           11\n",
            "2000         9\n",
            "£570         7\n",
            "£305         6\n",
            "£165         6\n",
            "£265         5\n",
            "£205         5\n",
            "£140         4\n",
            "£325         4\n",
            "£235         4\n",
            "3982         3\n",
            "£115         2\n",
            "1.5          2\n",
            "2.143        2\n",
            "£580         2\n",
            "3000         2\n",
            "£565         1\n",
            "2148         1\n",
            "£210         1\n",
            "£185         1\n",
            "1991         1\n",
            "2148CC       1\n",
            "3200         1\n",
            "£555         1\n",
            "2100         1\n",
            "£135         1\n",
            "1600         1\n",
            "1500         1\n",
            "5400         1\n",
            "£230         1\n",
            "3            1\n",
            "£290         1\n",
            "Name: engine size, dtype: int64\n",
            "\n",
            "\n",
            "mileage2\n",
            "64.2      648\n",
            "61.4      441\n",
            "46.3      265\n",
            "44.1      248\n",
            "65.7      193\n",
            "         ... \n",
            "49,846      1\n",
            "88,082      1\n",
            "36,000      1\n",
            "21,800      1\n",
            "27,566      1\n",
            "Name: mileage2, Length: 125, dtype: int64\n",
            "\n",
            "\n",
            "fuel type2\n",
            "Diesel    2262\n",
            "Petrol    1390\n",
            "Hybrid     150\n",
            "Other        6\n",
            "Name: fuel type2, dtype: int64\n",
            "\n",
            "\n",
            "engine size2\n",
            "2          1224\n",
            "2.1         985\n",
            "1.5         546\n",
            "1.6         231\n",
            "2143        174\n",
            "3           155\n",
            "2.143       109\n",
            "4            78\n",
            "1991         56\n",
            "2000         37\n",
            "2100         28\n",
            "1.991        25\n",
            "1950         23\n",
            "1497         17\n",
            "1595         13\n",
            "1.8          11\n",
            "3982         10\n",
            "1796          9\n",
            "6.2           8\n",
            "3000          7\n",
            "1598          6\n",
            "2148          5\n",
            "1600          5\n",
            "1597          5\n",
            "1500          4\n",
            "1.598         4\n",
            "2.14          4\n",
            "2.2           3\n",
            "2996          3\n",
            "1998          2\n",
            "2145          2\n",
            "1800          2\n",
            "1.497         1\n",
            "2597          1\n",
            "2987          1\n",
            "4000          1\n",
            "2497          1\n",
            "2.15          1\n",
            "2.7           1\n",
            "3498          1\n",
            "2962          1\n",
            "1461          1\n",
            "0             1\n",
            "Unknown       1\n",
            "5439          1\n",
            "2.996         1\n",
            "6208          1\n",
            "2685          1\n",
            "3606          1\n",
            "Name: engine size2, dtype: int64\n",
            "\n",
            "\n",
            "reference\n",
            "/ad/25276968    1\n",
            "/ad/25432000    1\n",
            "/ad/24319885    1\n",
            "/ad/25349090    1\n",
            "/ad/23957969    1\n",
            "               ..\n",
            "/ad/25274506    1\n",
            "/ad/25273233    1\n",
            "/ad/25126710    1\n",
            "/ad/25114380    1\n",
            "/ad/25483641    1\n",
            "Name: reference, Length: 3907, dtype: int64\n",
            "\n",
            "\n"
          ],
          "name": "stdout"
        }
      ]
    },
    {
      "cell_type": "markdown",
      "metadata": {
        "id": "xdAo6HtUEuuL"
      },
      "source": [
        "Pisahkan data type object dan bukan object"
      ]
    },
    {
      "cell_type": "code",
      "metadata": {
        "id": "veQWASKZ_fY4"
      },
      "source": [
        "df_obj = df.select_dtypes(include='object')"
      ],
      "execution_count": 7,
      "outputs": []
    },
    {
      "cell_type": "code",
      "metadata": {
        "id": "X7X5aaf2_04L"
      },
      "source": [
        "df_non_obj = df.select_dtypes(exclude='object')"
      ],
      "execution_count": 8,
      "outputs": []
    },
    {
      "cell_type": "code",
      "metadata": {
        "colab": {
          "base_uri": "https://localhost:8080/",
          "height": 623
        },
        "id": "zLuYW4a19lUS",
        "outputId": "105af1ec-c22c-4fc3-aa9d-d6fbf196c615"
      },
      "source": [
        "for i in df_obj.columns:\n",
        "  df_obj[i] = df_obj[i].str.replace(',', '')\n",
        "  df_obj[i] = df_obj[i].str.replace('£', '')\n",
        "\n",
        "df_obj"
      ],
      "execution_count": 9,
      "outputs": [
        {
          "output_type": "stream",
          "text": [
            "/usr/local/lib/python3.7/dist-packages/ipykernel_launcher.py:2: SettingWithCopyWarning: \n",
            "A value is trying to be set on a copy of a slice from a DataFrame.\n",
            "Try using .loc[row_indexer,col_indexer] = value instead\n",
            "\n",
            "See the caveats in the documentation: https://pandas.pydata.org/pandas-docs/stable/user_guide/indexing.html#returning-a-view-versus-a-copy\n",
            "  \n",
            "/usr/local/lib/python3.7/dist-packages/ipykernel_launcher.py:3: SettingWithCopyWarning: \n",
            "A value is trying to be set on a copy of a slice from a DataFrame.\n",
            "Try using .loc[row_indexer,col_indexer] = value instead\n",
            "\n",
            "See the caveats in the documentation: https://pandas.pydata.org/pandas-docs/stable/user_guide/indexing.html#returning-a-view-versus-a-copy\n",
            "  This is separate from the ipykernel package so we can avoid doing imports until\n"
          ],
          "name": "stderr"
        },
        {
          "output_type": "execute_result",
          "data": {
            "text/html": [
              "<div>\n",
              "<style scoped>\n",
              "    .dataframe tbody tr th:only-of-type {\n",
              "        vertical-align: middle;\n",
              "    }\n",
              "\n",
              "    .dataframe tbody tr th {\n",
              "        vertical-align: top;\n",
              "    }\n",
              "\n",
              "    .dataframe thead th {\n",
              "        text-align: right;\n",
              "    }\n",
              "</style>\n",
              "<table border=\"1\" class=\"dataframe\">\n",
              "  <thead>\n",
              "    <tr style=\"text-align: right;\">\n",
              "      <th></th>\n",
              "      <th>model</th>\n",
              "      <th>price</th>\n",
              "      <th>transmission</th>\n",
              "      <th>mileage</th>\n",
              "      <th>fuel type</th>\n",
              "      <th>engine size</th>\n",
              "      <th>mileage2</th>\n",
              "      <th>fuel type2</th>\n",
              "      <th>engine size2</th>\n",
              "      <th>reference</th>\n",
              "    </tr>\n",
              "  </thead>\n",
              "  <tbody>\n",
              "    <tr>\n",
              "      <th>0</th>\n",
              "      <td>C Class</td>\n",
              "      <td>30495</td>\n",
              "      <td>Automatic</td>\n",
              "      <td>NaN</td>\n",
              "      <td>Diesel</td>\n",
              "      <td>2</td>\n",
              "      <td>1200</td>\n",
              "      <td>NaN</td>\n",
              "      <td>NaN</td>\n",
              "      <td>/ad/25017331</td>\n",
              "    </tr>\n",
              "    <tr>\n",
              "      <th>1</th>\n",
              "      <td>C Class</td>\n",
              "      <td>29989</td>\n",
              "      <td>Automatic</td>\n",
              "      <td>NaN</td>\n",
              "      <td>Petrol</td>\n",
              "      <td>1.5</td>\n",
              "      <td>1000</td>\n",
              "      <td>NaN</td>\n",
              "      <td>NaN</td>\n",
              "      <td>/ad/25043746</td>\n",
              "    </tr>\n",
              "    <tr>\n",
              "      <th>2</th>\n",
              "      <td>C Class</td>\n",
              "      <td>37899</td>\n",
              "      <td>Automatic</td>\n",
              "      <td>NaN</td>\n",
              "      <td>Diesel</td>\n",
              "      <td>2</td>\n",
              "      <td>500</td>\n",
              "      <td>NaN</td>\n",
              "      <td>NaN</td>\n",
              "      <td>/ad/25142894</td>\n",
              "    </tr>\n",
              "    <tr>\n",
              "      <th>3</th>\n",
              "      <td>C Class</td>\n",
              "      <td>30399</td>\n",
              "      <td>Automatic</td>\n",
              "      <td>NaN</td>\n",
              "      <td>Diesel</td>\n",
              "      <td>2</td>\n",
              "      <td>5000</td>\n",
              "      <td>NaN</td>\n",
              "      <td>NaN</td>\n",
              "      <td>/ad/24942816</td>\n",
              "    </tr>\n",
              "    <tr>\n",
              "      <th>4</th>\n",
              "      <td>C Class</td>\n",
              "      <td>29899</td>\n",
              "      <td>Automatic</td>\n",
              "      <td>NaN</td>\n",
              "      <td>Diesel</td>\n",
              "      <td>2</td>\n",
              "      <td>4500</td>\n",
              "      <td>NaN</td>\n",
              "      <td>NaN</td>\n",
              "      <td>/ad/24913660</td>\n",
              "    </tr>\n",
              "    <tr>\n",
              "      <th>...</th>\n",
              "      <td>...</td>\n",
              "      <td>...</td>\n",
              "      <td>...</td>\n",
              "      <td>...</td>\n",
              "      <td>...</td>\n",
              "      <td>...</td>\n",
              "      <td>...</td>\n",
              "      <td>...</td>\n",
              "      <td>...</td>\n",
              "      <td>...</td>\n",
              "    </tr>\n",
              "    <tr>\n",
              "      <th>4001</th>\n",
              "      <td>C Class</td>\n",
              "      <td>14700</td>\n",
              "      <td>Manual</td>\n",
              "      <td>31357</td>\n",
              "      <td>25</td>\n",
              "      <td>150</td>\n",
              "      <td>70.6</td>\n",
              "      <td>Diesel</td>\n",
              "      <td>1.598</td>\n",
              "      <td>/ad/25451436</td>\n",
              "    </tr>\n",
              "    <tr>\n",
              "      <th>4002</th>\n",
              "      <td>C Class</td>\n",
              "      <td>18500</td>\n",
              "      <td>Automatic</td>\n",
              "      <td>28248</td>\n",
              "      <td>31</td>\n",
              "      <td>150</td>\n",
              "      <td>64.2</td>\n",
              "      <td>Diesel</td>\n",
              "      <td>2.143</td>\n",
              "      <td>/ad/25451481</td>\n",
              "    </tr>\n",
              "    <tr>\n",
              "      <th>4003</th>\n",
              "      <td>C Class</td>\n",
              "      <td>11900</td>\n",
              "      <td>Manual</td>\n",
              "      <td>48055</td>\n",
              "      <td>31</td>\n",
              "      <td>20</td>\n",
              "      <td>65.7</td>\n",
              "      <td>Diesel</td>\n",
              "      <td>2.143</td>\n",
              "      <td>/ad/25057204</td>\n",
              "    </tr>\n",
              "    <tr>\n",
              "      <th>4004</th>\n",
              "      <td>C Class</td>\n",
              "      <td>11300</td>\n",
              "      <td>Automatic</td>\n",
              "      <td>49865</td>\n",
              "      <td>46</td>\n",
              "      <td>145</td>\n",
              "      <td>56.5</td>\n",
              "      <td>Diesel</td>\n",
              "      <td>2.143</td>\n",
              "      <td>/ad/25144481</td>\n",
              "    </tr>\n",
              "    <tr>\n",
              "      <th>4005</th>\n",
              "      <td>C Class</td>\n",
              "      <td>14800</td>\n",
              "      <td>Automatic</td>\n",
              "      <td>55445</td>\n",
              "      <td>37</td>\n",
              "      <td>30</td>\n",
              "      <td>64.2</td>\n",
              "      <td>Diesel</td>\n",
              "      <td>2.143</td>\n",
              "      <td>/ad/25154247</td>\n",
              "    </tr>\n",
              "  </tbody>\n",
              "</table>\n",
              "<p>4006 rows × 10 columns</p>\n",
              "</div>"
            ],
            "text/plain": [
              "         model   price transmission  ... fuel type2 engine size2     reference\n",
              "0      C Class   30495    Automatic  ...        NaN          NaN  /ad/25017331\n",
              "1      C Class   29989    Automatic  ...        NaN          NaN  /ad/25043746\n",
              "2      C Class   37899    Automatic  ...        NaN          NaN  /ad/25142894\n",
              "3      C Class   30399    Automatic  ...        NaN          NaN  /ad/24942816\n",
              "4      C Class   29899    Automatic  ...        NaN          NaN  /ad/24913660\n",
              "...        ...     ...          ...  ...        ...          ...           ...\n",
              "4001   C Class   14700       Manual  ...     Diesel        1.598  /ad/25451436\n",
              "4002   C Class   18500    Automatic  ...     Diesel        2.143  /ad/25451481\n",
              "4003   C Class   11900       Manual  ...     Diesel        2.143  /ad/25057204\n",
              "4004   C Class   11300    Automatic  ...     Diesel        2.143  /ad/25144481\n",
              "4005   C Class   14800    Automatic  ...     Diesel        2.143  /ad/25154247\n",
              "\n",
              "[4006 rows x 10 columns]"
            ]
          },
          "metadata": {
            "tags": []
          },
          "execution_count": 9
        }
      ]
    },
    {
      "cell_type": "code",
      "metadata": {
        "id": "yemr1jMLAElS"
      },
      "source": [
        "df_obj.reset_index(drop=True,inplace=True)\n",
        "df_non_obj.reset_index(drop=True,inplace=True)"
      ],
      "execution_count": 10,
      "outputs": []
    },
    {
      "cell_type": "code",
      "metadata": {
        "colab": {
          "base_uri": "https://localhost:8080/",
          "height": 419
        },
        "id": "Cpug0lnX8ae7",
        "outputId": "9b52f955-b346-4622-d534-7c137b0977c6"
      },
      "source": [
        "df_new = pd.concat([df_non_obj,df_obj],axis=1)\n",
        "df_new"
      ],
      "execution_count": 11,
      "outputs": [
        {
          "output_type": "execute_result",
          "data": {
            "text/html": [
              "<div>\n",
              "<style scoped>\n",
              "    .dataframe tbody tr th:only-of-type {\n",
              "        vertical-align: middle;\n",
              "    }\n",
              "\n",
              "    .dataframe tbody tr th {\n",
              "        vertical-align: top;\n",
              "    }\n",
              "\n",
              "    .dataframe thead th {\n",
              "        text-align: right;\n",
              "    }\n",
              "</style>\n",
              "<table border=\"1\" class=\"dataframe\">\n",
              "  <thead>\n",
              "    <tr style=\"text-align: right;\">\n",
              "      <th></th>\n",
              "      <th>year</th>\n",
              "      <th>model</th>\n",
              "      <th>price</th>\n",
              "      <th>transmission</th>\n",
              "      <th>mileage</th>\n",
              "      <th>fuel type</th>\n",
              "      <th>engine size</th>\n",
              "      <th>mileage2</th>\n",
              "      <th>fuel type2</th>\n",
              "      <th>engine size2</th>\n",
              "      <th>reference</th>\n",
              "    </tr>\n",
              "  </thead>\n",
              "  <tbody>\n",
              "    <tr>\n",
              "      <th>0</th>\n",
              "      <td>2020.0</td>\n",
              "      <td>C Class</td>\n",
              "      <td>30495</td>\n",
              "      <td>Automatic</td>\n",
              "      <td>NaN</td>\n",
              "      <td>Diesel</td>\n",
              "      <td>2</td>\n",
              "      <td>1200</td>\n",
              "      <td>NaN</td>\n",
              "      <td>NaN</td>\n",
              "      <td>/ad/25017331</td>\n",
              "    </tr>\n",
              "    <tr>\n",
              "      <th>1</th>\n",
              "      <td>2020.0</td>\n",
              "      <td>C Class</td>\n",
              "      <td>29989</td>\n",
              "      <td>Automatic</td>\n",
              "      <td>NaN</td>\n",
              "      <td>Petrol</td>\n",
              "      <td>1.5</td>\n",
              "      <td>1000</td>\n",
              "      <td>NaN</td>\n",
              "      <td>NaN</td>\n",
              "      <td>/ad/25043746</td>\n",
              "    </tr>\n",
              "    <tr>\n",
              "      <th>2</th>\n",
              "      <td>2020.0</td>\n",
              "      <td>C Class</td>\n",
              "      <td>37899</td>\n",
              "      <td>Automatic</td>\n",
              "      <td>NaN</td>\n",
              "      <td>Diesel</td>\n",
              "      <td>2</td>\n",
              "      <td>500</td>\n",
              "      <td>NaN</td>\n",
              "      <td>NaN</td>\n",
              "      <td>/ad/25142894</td>\n",
              "    </tr>\n",
              "    <tr>\n",
              "      <th>3</th>\n",
              "      <td>2019.0</td>\n",
              "      <td>C Class</td>\n",
              "      <td>30399</td>\n",
              "      <td>Automatic</td>\n",
              "      <td>NaN</td>\n",
              "      <td>Diesel</td>\n",
              "      <td>2</td>\n",
              "      <td>5000</td>\n",
              "      <td>NaN</td>\n",
              "      <td>NaN</td>\n",
              "      <td>/ad/24942816</td>\n",
              "    </tr>\n",
              "    <tr>\n",
              "      <th>4</th>\n",
              "      <td>2019.0</td>\n",
              "      <td>C Class</td>\n",
              "      <td>29899</td>\n",
              "      <td>Automatic</td>\n",
              "      <td>NaN</td>\n",
              "      <td>Diesel</td>\n",
              "      <td>2</td>\n",
              "      <td>4500</td>\n",
              "      <td>NaN</td>\n",
              "      <td>NaN</td>\n",
              "      <td>/ad/24913660</td>\n",
              "    </tr>\n",
              "    <tr>\n",
              "      <th>...</th>\n",
              "      <td>...</td>\n",
              "      <td>...</td>\n",
              "      <td>...</td>\n",
              "      <td>...</td>\n",
              "      <td>...</td>\n",
              "      <td>...</td>\n",
              "      <td>...</td>\n",
              "      <td>...</td>\n",
              "      <td>...</td>\n",
              "      <td>...</td>\n",
              "      <td>...</td>\n",
              "    </tr>\n",
              "    <tr>\n",
              "      <th>4001</th>\n",
              "      <td>2017.0</td>\n",
              "      <td>C Class</td>\n",
              "      <td>14700</td>\n",
              "      <td>Manual</td>\n",
              "      <td>31357</td>\n",
              "      <td>25</td>\n",
              "      <td>150</td>\n",
              "      <td>70.6</td>\n",
              "      <td>Diesel</td>\n",
              "      <td>1.598</td>\n",
              "      <td>/ad/25451436</td>\n",
              "    </tr>\n",
              "    <tr>\n",
              "      <th>4002</th>\n",
              "      <td>2018.0</td>\n",
              "      <td>C Class</td>\n",
              "      <td>18500</td>\n",
              "      <td>Automatic</td>\n",
              "      <td>28248</td>\n",
              "      <td>31</td>\n",
              "      <td>150</td>\n",
              "      <td>64.2</td>\n",
              "      <td>Diesel</td>\n",
              "      <td>2.143</td>\n",
              "      <td>/ad/25451481</td>\n",
              "    </tr>\n",
              "    <tr>\n",
              "      <th>4003</th>\n",
              "      <td>2014.0</td>\n",
              "      <td>C Class</td>\n",
              "      <td>11900</td>\n",
              "      <td>Manual</td>\n",
              "      <td>48055</td>\n",
              "      <td>31</td>\n",
              "      <td>20</td>\n",
              "      <td>65.7</td>\n",
              "      <td>Diesel</td>\n",
              "      <td>2.143</td>\n",
              "      <td>/ad/25057204</td>\n",
              "    </tr>\n",
              "    <tr>\n",
              "      <th>4004</th>\n",
              "      <td>2014.0</td>\n",
              "      <td>C Class</td>\n",
              "      <td>11300</td>\n",
              "      <td>Automatic</td>\n",
              "      <td>49865</td>\n",
              "      <td>46</td>\n",
              "      <td>145</td>\n",
              "      <td>56.5</td>\n",
              "      <td>Diesel</td>\n",
              "      <td>2.143</td>\n",
              "      <td>/ad/25144481</td>\n",
              "    </tr>\n",
              "    <tr>\n",
              "      <th>4005</th>\n",
              "      <td>2014.0</td>\n",
              "      <td>C Class</td>\n",
              "      <td>14800</td>\n",
              "      <td>Automatic</td>\n",
              "      <td>55445</td>\n",
              "      <td>37</td>\n",
              "      <td>30</td>\n",
              "      <td>64.2</td>\n",
              "      <td>Diesel</td>\n",
              "      <td>2.143</td>\n",
              "      <td>/ad/25154247</td>\n",
              "    </tr>\n",
              "  </tbody>\n",
              "</table>\n",
              "<p>4006 rows × 11 columns</p>\n",
              "</div>"
            ],
            "text/plain": [
              "        year     model   price  ... fuel type2 engine size2     reference\n",
              "0     2020.0   C Class   30495  ...        NaN          NaN  /ad/25017331\n",
              "1     2020.0   C Class   29989  ...        NaN          NaN  /ad/25043746\n",
              "2     2020.0   C Class   37899  ...        NaN          NaN  /ad/25142894\n",
              "3     2019.0   C Class   30399  ...        NaN          NaN  /ad/24942816\n",
              "4     2019.0   C Class   29899  ...        NaN          NaN  /ad/24913660\n",
              "...      ...       ...     ...  ...        ...          ...           ...\n",
              "4001  2017.0   C Class   14700  ...     Diesel        1.598  /ad/25451436\n",
              "4002  2018.0   C Class   18500  ...     Diesel        2.143  /ad/25451481\n",
              "4003  2014.0   C Class   11900  ...     Diesel        2.143  /ad/25057204\n",
              "4004  2014.0   C Class   11300  ...     Diesel        2.143  /ad/25144481\n",
              "4005  2014.0   C Class   14800  ...     Diesel        2.143  /ad/25154247\n",
              "\n",
              "[4006 rows x 11 columns]"
            ]
          },
          "metadata": {
            "tags": []
          },
          "execution_count": 11
        }
      ]
    },
    {
      "cell_type": "code",
      "metadata": {
        "colab": {
          "base_uri": "https://localhost:8080/"
        },
        "id": "-A4Zeaot-o6H",
        "outputId": "09cb0388-1e58-44ea-817e-cc1928f899af"
      },
      "source": [
        "df_new.isnull().sum()"
      ],
      "execution_count": 12,
      "outputs": [
        {
          "output_type": "execute_result",
          "data": {
            "text/plain": [
              "year             102\n",
              "model             99\n",
              "price             99\n",
              "transmission      99\n",
              "mileage          198\n",
              "fuel type       2677\n",
              "engine size      164\n",
              "mileage2         116\n",
              "fuel type2       198\n",
              "engine size2     198\n",
              "reference         99\n",
              "dtype: int64"
            ]
          },
          "metadata": {
            "tags": []
          },
          "execution_count": 12
        }
      ]
    },
    {
      "cell_type": "markdown",
      "metadata": {
        "id": "oqTELIumE0D8"
      },
      "source": [
        "Drop missing value"
      ]
    },
    {
      "cell_type": "code",
      "metadata": {
        "id": "6o0_oSj-AW7o"
      },
      "source": [
        "df_new.dropna(inplace=True)"
      ],
      "execution_count": 13,
      "outputs": []
    },
    {
      "cell_type": "code",
      "metadata": {
        "id": "Ct0rOa4FAacp"
      },
      "source": [
        "df_new.reset_index(drop=True,inplace=True)"
      ],
      "execution_count": 14,
      "outputs": []
    },
    {
      "cell_type": "code",
      "metadata": {
        "colab": {
          "base_uri": "https://localhost:8080/"
        },
        "id": "uM9SPZipA4qD",
        "outputId": "f66f85b8-57e3-417e-d21b-8db7c0c9db7b"
      },
      "source": [
        "for i in df_new.columns:\n",
        "    print(i)\n",
        "    print(df_new[i].value_counts())\n",
        "    print('\\n')"
      ],
      "execution_count": 15,
      "outputs": [
        {
          "output_type": "stream",
          "text": [
            "year\n",
            "2017.0    326\n",
            "2015.0    236\n",
            "2016.0    230\n",
            "2018.0    160\n",
            "2014.0    130\n",
            "2013.0     61\n",
            "2012.0     23\n",
            "2011.0      8\n",
            "2010.0      8\n",
            "2009.0      7\n",
            "2008.0      6\n",
            "2007.0      6\n",
            "2004.0      2\n",
            "2006.0      2\n",
            "2002.0      2\n",
            "2005.0      1\n",
            "Name: year, dtype: int64\n",
            "\n",
            "\n",
            "model\n",
            " C Class    1208\n",
            "Name: model, dtype: int64\n",
            "\n",
            "\n",
            "price\n",
            " 18999    11\n",
            " 19000    10\n",
            " 14999     9\n",
            " 17990     9\n",
            " 18998     8\n",
            "          ..\n",
            " 11200     1\n",
            " 20771     1\n",
            " 9298      1\n",
            " 12672     1\n",
            " 8490      1\n",
            "Name: price, Length: 732, dtype: int64\n",
            "\n",
            "\n",
            "transmission\n",
            "Automatic    546\n",
            "Semi-Auto    521\n",
            "Manual       141\n",
            "Name: transmission, dtype: int64\n",
            "\n",
            "\n",
            "mileage\n",
            "54000    9\n",
            "29000    6\n",
            "50000    5\n",
            "39000    5\n",
            "20000    5\n",
            "        ..\n",
            "17125    1\n",
            "20090    1\n",
            "26428    1\n",
            "32720    1\n",
            "30728    1\n",
            "Name: mileage, Length: 1101, dtype: int64\n",
            "\n",
            "\n",
            "fuel type\n",
            "31    309\n",
            "32    238\n",
            "38    167\n",
            "37    101\n",
            "30     73\n",
            "25     64\n",
            "29     55\n",
            "33     50\n",
            "34     27\n",
            "26     24\n",
            "36     17\n",
            "39     16\n",
            "35     12\n",
            "43     12\n",
            "27     11\n",
            "40      8\n",
            "44      6\n",
            "46      4\n",
            "24      4\n",
            "45      3\n",
            "47      3\n",
            "28      3\n",
            "48      1\n",
            "Name: fuel type, dtype: int64\n",
            "\n",
            "\n",
            "engine size\n",
            "145      362\n",
            "30       277\n",
            "20       220\n",
            "125       85\n",
            "150       66\n",
            "0         62\n",
            "145       33\n",
            "160       33\n",
            "300       10\n",
            "200        9\n",
            "150        9\n",
            "570        6\n",
            "165        5\n",
            "260        4\n",
            "205        4\n",
            "135        3\n",
            "325        3\n",
            "235        3\n",
            "140        2\n",
            "305        2\n",
            "580        2\n",
            "265        2\n",
            "290        1\n",
            "230        1\n",
            "115        1\n",
            "565        1\n",
            "210        1\n",
            "555        1\n",
            "Name: engine size, dtype: int64\n",
            "\n",
            "\n",
            "mileage2\n",
            "64.2     278\n",
            "65.7     148\n",
            "61.4     102\n",
            "67.3      99\n",
            "60.1      76\n",
            "53.3      66\n",
            "68.9      52\n",
            "134.5     39\n",
            "52.3      32\n",
            "47.1      30\n",
            "50.4      27\n",
            "70.6      27\n",
            "56.5      25\n",
            "48.7      25\n",
            "44.8      21\n",
            "49.6      15\n",
            "54.3      15\n",
            "62.8      12\n",
            "76.4      12\n",
            "74.3      10\n",
            "47.9       9\n",
            "58.9       9\n",
            "46.3       9\n",
            "43.5       8\n",
            "34.5       7\n",
            "42.2       7\n",
            "23.5       6\n",
            "72.4       3\n",
            "55.4       3\n",
            "78.5       3\n",
            "51.4       3\n",
            "33.6       3\n",
            "45.6       3\n",
            "41.5       2\n",
            "39.8       2\n",
            "40.4       2\n",
            "23         2\n",
            "57.7       2\n",
            "44.1       2\n",
            "31.4       1\n",
            "32.5       1\n",
            "28.2       1\n",
            "38.7       1\n",
            "36.7       1\n",
            "32.1       1\n",
            "39.2       1\n",
            "28.8       1\n",
            "38.2       1\n",
            "122.8      1\n",
            "34.9       1\n",
            "37.7       1\n",
            "Name: mileage2, dtype: int64\n",
            "\n",
            "\n",
            "fuel type2\n",
            "Diesel    915\n",
            "Petrol    228\n",
            "Hybrid     60\n",
            "Other       5\n",
            "Name: fuel type2, dtype: int64\n",
            "\n",
            "\n",
            "engine size2\n",
            "2.1        633\n",
            "2          155\n",
            "2143       111\n",
            "1.6        106\n",
            "2.143       79\n",
            "1.991       20\n",
            "1991        16\n",
            "2100        12\n",
            "1.8          9\n",
            "2000         9\n",
            "6.2          7\n",
            "1796         7\n",
            "1598         6\n",
            "1595         6\n",
            "1.598        4\n",
            "1597         3\n",
            "1600         3\n",
            "4            3\n",
            "2.14         3\n",
            "2148         2\n",
            "2145         2\n",
            "2.2          2\n",
            "Unknown      1\n",
            "1800         1\n",
            "2497         1\n",
            "6208         1\n",
            "2.15         1\n",
            "2.7          1\n",
            "3982         1\n",
            "1998         1\n",
            "3498         1\n",
            "2987         1\n",
            "Name: engine size2, dtype: int64\n",
            "\n",
            "\n",
            "reference\n",
            "/ad/25403614    1\n",
            "/ad/25038408    1\n",
            "/ad/24998269    1\n",
            "/ad/25271748    1\n",
            "/ad/25171208    1\n",
            "               ..\n",
            "/ad/25432018    1\n",
            "/ad/25420348    1\n",
            "/ad/25468352    1\n",
            "/ad/24902160    1\n",
            "/ad/25275235    1\n",
            "Name: reference, Length: 1208, dtype: int64\n",
            "\n",
            "\n"
          ],
          "name": "stdout"
        }
      ]
    },
    {
      "cell_type": "code",
      "metadata": {
        "colab": {
          "base_uri": "https://localhost:8080/"
        },
        "id": "_fGY0x1WB1Du",
        "outputId": "b516eff8-ea57-4160-8c3b-4c26a0aaf573"
      },
      "source": [
        "df_new.info()"
      ],
      "execution_count": 16,
      "outputs": [
        {
          "output_type": "stream",
          "text": [
            "<class 'pandas.core.frame.DataFrame'>\n",
            "RangeIndex: 1208 entries, 0 to 1207\n",
            "Data columns (total 11 columns):\n",
            " #   Column        Non-Null Count  Dtype  \n",
            "---  ------        --------------  -----  \n",
            " 0   year          1208 non-null   float64\n",
            " 1   model         1208 non-null   object \n",
            " 2   price         1208 non-null   object \n",
            " 3   transmission  1208 non-null   object \n",
            " 4   mileage       1208 non-null   object \n",
            " 5   fuel type     1208 non-null   object \n",
            " 6   engine size   1208 non-null   object \n",
            " 7   mileage2      1208 non-null   object \n",
            " 8   fuel type2    1208 non-null   object \n",
            " 9   engine size2  1208 non-null   object \n",
            " 10  reference     1208 non-null   object \n",
            "dtypes: float64(1), object(10)\n",
            "memory usage: 103.9+ KB\n"
          ],
          "name": "stdout"
        }
      ]
    },
    {
      "cell_type": "code",
      "metadata": {
        "id": "cTfPO5SKB4BY"
      },
      "source": [
        "df_new['engine size2'] = df_new['engine size2'].str.replace('Unknown', '2.1')"
      ],
      "execution_count": 17,
      "outputs": []
    },
    {
      "cell_type": "code",
      "metadata": {
        "colab": {
          "base_uri": "https://localhost:8080/"
        },
        "id": "Q7KhdCEcBXKM",
        "outputId": "a0f17612-f412-4146-eb70-e92b617d25a5"
      },
      "source": [
        "df_new.info()"
      ],
      "execution_count": 18,
      "outputs": [
        {
          "output_type": "stream",
          "text": [
            "<class 'pandas.core.frame.DataFrame'>\n",
            "RangeIndex: 1208 entries, 0 to 1207\n",
            "Data columns (total 11 columns):\n",
            " #   Column        Non-Null Count  Dtype  \n",
            "---  ------        --------------  -----  \n",
            " 0   year          1208 non-null   float64\n",
            " 1   model         1208 non-null   object \n",
            " 2   price         1208 non-null   object \n",
            " 3   transmission  1208 non-null   object \n",
            " 4   mileage       1208 non-null   object \n",
            " 5   fuel type     1208 non-null   object \n",
            " 6   engine size   1208 non-null   object \n",
            " 7   mileage2      1208 non-null   object \n",
            " 8   fuel type2    1208 non-null   object \n",
            " 9   engine size2  1208 non-null   object \n",
            " 10  reference     1208 non-null   object \n",
            "dtypes: float64(1), object(10)\n",
            "memory usage: 103.9+ KB\n"
          ],
          "name": "stdout"
        }
      ]
    },
    {
      "cell_type": "markdown",
      "metadata": {
        "id": "rqbDx0FME5fI"
      },
      "source": [
        "Ubah data object yang merupaka angka ke float (tipe numerikal)"
      ]
    },
    {
      "cell_type": "code",
      "metadata": {
        "colab": {
          "base_uri": "https://localhost:8080/"
        },
        "id": "Td-zwMZLDkwF",
        "outputId": "db17437b-b0a1-40d0-fc0b-d18ebb9c4cfd"
      },
      "source": [
        "df_new.columns"
      ],
      "execution_count": 19,
      "outputs": [
        {
          "output_type": "execute_result",
          "data": {
            "text/plain": [
              "Index(['year', 'model', 'price', 'transmission', 'mileage', 'fuel type',\n",
              "       'engine size', 'mileage2', 'fuel type2', 'engine size2', 'reference'],\n",
              "      dtype='object')"
            ]
          },
          "metadata": {
            "tags": []
          },
          "execution_count": 19
        }
      ]
    },
    {
      "cell_type": "code",
      "metadata": {
        "id": "Uej4ApvIDiSg"
      },
      "source": [
        "df_new[['price','mileage','engine size', 'mileage2','fuel type','engine size2']] = df_new[['price','mileage','engine size', 'mileage2','fuel type','engine size2']].astype('float64')"
      ],
      "execution_count": 20,
      "outputs": []
    },
    {
      "cell_type": "code",
      "metadata": {
        "colab": {
          "base_uri": "https://localhost:8080/"
        },
        "id": "Wk1CZeIqEUlB",
        "outputId": "3579b6c0-c2d3-4d8c-df3d-ab24a186de87"
      },
      "source": [
        "df_new.info()"
      ],
      "execution_count": 21,
      "outputs": [
        {
          "output_type": "stream",
          "text": [
            "<class 'pandas.core.frame.DataFrame'>\n",
            "RangeIndex: 1208 entries, 0 to 1207\n",
            "Data columns (total 11 columns):\n",
            " #   Column        Non-Null Count  Dtype  \n",
            "---  ------        --------------  -----  \n",
            " 0   year          1208 non-null   float64\n",
            " 1   model         1208 non-null   object \n",
            " 2   price         1208 non-null   float64\n",
            " 3   transmission  1208 non-null   object \n",
            " 4   mileage       1208 non-null   float64\n",
            " 5   fuel type     1208 non-null   float64\n",
            " 6   engine size   1208 non-null   float64\n",
            " 7   mileage2      1208 non-null   float64\n",
            " 8   fuel type2    1208 non-null   object \n",
            " 9   engine size2  1208 non-null   float64\n",
            " 10  reference     1208 non-null   object \n",
            "dtypes: float64(7), object(4)\n",
            "memory usage: 103.9+ KB\n"
          ],
          "name": "stdout"
        }
      ]
    },
    {
      "cell_type": "markdown",
      "metadata": {
        "id": "6c8wQR8UE_J8"
      },
      "source": [
        "Explorasi Data"
      ]
    },
    {
      "cell_type": "code",
      "metadata": {
        "colab": {
          "base_uri": "https://localhost:8080/",
          "height": 988
        },
        "id": "Stlibm4-FBBy",
        "outputId": "20d57b9c-2ad8-4933-e257-c645b92019f2"
      },
      "source": [
        "df_new.hist(figsize=(20,17))\n",
        "plt.show()"
      ],
      "execution_count": 22,
      "outputs": [
        {
          "output_type": "display_data",
          "data": {
            "image/png": "[encoded data removed]",
            "text/plain": [
              "<Figure size 1440x1224 with 9 Axes>"
            ]
          },
          "metadata": {
            "tags": [],
            "needs_background": "light"
          }
        }
      ]
    },
    {
      "cell_type": "code",
      "metadata": {
        "colab": {
          "base_uri": "https://localhost:8080/",
          "height": 1000
        },
        "id": "YfxaNWdKSEQr",
        "outputId": "d4bea47d-a8fa-4b91-c976-8d6a597da29e"
      },
      "source": [
        "plt.figure()\n",
        "sns.pairplot(df_new)\n",
        "plt.show()"
      ],
      "execution_count": 23,
      "outputs": [
        {
          "output_type": "display_data",
          "data": {
            "text/plain": [
              "<Figure size 432x288 with 0 Axes>"
            ]
          },
          "metadata": {
            "tags": []
          }
        },
        {
          "output_type": "display_data",
          "data": {
            "image/png": "[encoded data removed]",
            "text/plain": [
              "<Figure size 1260x1260 with 56 Axes>"
            ]
          },
          "metadata": {
            "tags": [],
            "needs_background": "light"
          }
        }
      ]
    },
    {
      "cell_type": "code",
      "metadata": {
        "colab": {
          "base_uri": "https://localhost:8080/",
          "height": 599
        },
        "id": "1xMS0T7cFV80",
        "outputId": "f67e8808-139e-48b6-fc08-1bc8773bfe7a"
      },
      "source": [
        "plt.figure(figsize=(17,10))\n",
        "sns.heatmap(df_new.corr(),annot=True,cmap = 'viridis')\n",
        "plt.show()"
      ],
      "execution_count": 24,
      "outputs": [
        {
          "output_type": "display_data",
          "data": {
            "image/png": "[encoded data removed]",
            "text/plain": [
              "<Figure size 1224x720 with 2 Axes>"
            ]
          },
          "metadata": {
            "tags": [],
            "needs_background": "light"
          }
        }
      ]
    },
    {
      "cell_type": "code",
      "metadata": {
        "colab": {
          "base_uri": "https://localhost:8080/"
        },
        "id": "pklbN9mqFZbL",
        "outputId": "4b0715bd-1f4a-41b6-acd6-f9072b73c82d"
      },
      "source": [
        "correlation = df_new.corr()['price'].abs().sort_values(ascending = False)\n",
        "correlation"
      ],
      "execution_count": 25,
      "outputs": [
        {
          "output_type": "execute_result",
          "data": {
            "text/plain": [
              "price           1.000000\n",
              "year            0.767843\n",
              "mileage         0.722719\n",
              "fuel type       0.244547\n",
              "engine size2    0.202440\n",
              "mileage2        0.156582\n",
              "engine size     0.016954\n",
              "Name: price, dtype: float64"
            ]
          },
          "metadata": {
            "tags": []
          },
          "execution_count": 25
        }
      ]
    },
    {
      "cell_type": "code",
      "metadata": {
        "colab": {
          "base_uri": "https://localhost:8080/",
          "height": 464
        },
        "id": "PDAUWDAMFkbN",
        "outputId": "7e929870-3e4e-44e6-d85c-51d83feaab1c"
      },
      "source": [
        "plt.figure(figsize=(17,7))\n",
        "sns.boxplot(x='year',y='price',data=df_new)\n",
        "plt.xticks(rotation=45)\n",
        "plt.show()"
      ],
      "execution_count": 26,
      "outputs": [
        {
          "output_type": "display_data",
          "data": {
            "image/png": "[encoded data removed]",
            "text/plain": [
              "<Figure size 1224x504 with 1 Axes>"
            ]
          },
          "metadata": {
            "tags": [],
            "needs_background": "light"
          }
        }
      ]
    },
    {
      "cell_type": "code",
      "metadata": {
        "colab": {
          "base_uri": "https://localhost:8080/",
          "height": 464
        },
        "id": "HNZmGiM9SSNF",
        "outputId": "de4926d0-605d-42a9-c259-c9516887a644"
      },
      "source": [
        "plt.figure(figsize=(17,7))\n",
        "sns.barplot(x='year',y='price',data=df_new, hue='transmission')\n",
        "plt.xticks(rotation=45)\n",
        "plt.show()"
      ],
      "execution_count": 27,
      "outputs": [
        {
          "output_type": "display_data",
          "data": {
            "image/png": "[encoded data removed]",
            "text/plain": [
              "<Figure size 1224x504 with 1 Axes>"
            ]
          },
          "metadata": {
            "tags": [],
            "needs_background": "light"
          }
        }
      ]
    },
    {
      "cell_type": "markdown",
      "metadata": {
        "id": "hDTFak8-GpxH"
      },
      "source": [
        "### 3.Data Preparation"
      ]
    },
    {
      "cell_type": "code",
      "metadata": {
        "id": "HMZjIKWKGZnH"
      },
      "source": [
        "df_new['year'] = df_new['year'].astype(int)"
      ],
      "execution_count": 28,
      "outputs": []
    },
    {
      "cell_type": "code",
      "metadata": {
        "colab": {
          "base_uri": "https://localhost:8080/"
        },
        "id": "GS9FSwrZHOR-",
        "outputId": "de6a9048-9ade-47cc-b53d-b9018f6d33c9"
      },
      "source": [
        "df_new.info()"
      ],
      "execution_count": 29,
      "outputs": [
        {
          "output_type": "stream",
          "text": [
            "<class 'pandas.core.frame.DataFrame'>\n",
            "RangeIndex: 1208 entries, 0 to 1207\n",
            "Data columns (total 11 columns):\n",
            " #   Column        Non-Null Count  Dtype  \n",
            "---  ------        --------------  -----  \n",
            " 0   year          1208 non-null   int64  \n",
            " 1   model         1208 non-null   object \n",
            " 2   price         1208 non-null   float64\n",
            " 3   transmission  1208 non-null   object \n",
            " 4   mileage       1208 non-null   float64\n",
            " 5   fuel type     1208 non-null   float64\n",
            " 6   engine size   1208 non-null   float64\n",
            " 7   mileage2      1208 non-null   float64\n",
            " 8   fuel type2    1208 non-null   object \n",
            " 9   engine size2  1208 non-null   float64\n",
            " 10  reference     1208 non-null   object \n",
            "dtypes: float64(6), int64(1), object(4)\n",
            "memory usage: 103.9+ KB\n"
          ],
          "name": "stdout"
        }
      ]
    },
    {
      "cell_type": "code",
      "metadata": {
        "id": "b3niE32iJ-vR"
      },
      "source": [
        "df_new.drop(columns=['model','reference'],axis=1,inplace=True)"
      ],
      "execution_count": 30,
      "outputs": []
    },
    {
      "cell_type": "markdown",
      "metadata": {
        "id": "3iHRcnR1HTNE"
      },
      "source": [
        "Encoding"
      ]
    },
    {
      "cell_type": "markdown",
      "metadata": {
        "id": "AV72sZtDHo58"
      },
      "source": [
        "Ordinal Encoding"
      ]
    },
    {
      "cell_type": "code",
      "metadata": {
        "colab": {
          "base_uri": "https://localhost:8080/"
        },
        "id": "HRlzPPpeHWTT",
        "outputId": "51c4d3ed-4537-429d-c778-3efc13a4f4d7"
      },
      "source": [
        "df_new['year'].unique()"
      ],
      "execution_count": 31,
      "outputs": [
        {
          "output_type": "execute_result",
          "data": {
            "text/plain": [
              "array([2013, 2012, 2011, 2015, 2016, 2017, 2014, 2009, 2007, 2018, 2010,\n",
              "       2008, 2006, 2002, 2005, 2004])"
            ]
          },
          "metadata": {
            "tags": []
          },
          "execution_count": 31
        }
      ]
    },
    {
      "cell_type": "code",
      "metadata": {
        "id": "AUw45Sy6HBML"
      },
      "source": [
        "df_new['year'] = df_new['year'].map({2013:10, 2012:9, 2011:8, 2015:12, 2016:13, 2017:14, 2014:11, 2009:6, 2007:4, 2018:15, 2010:7,\n",
        "       2008:5, 2006:3, 2002:0, 2005:2, 2004:1})\n"
      ],
      "execution_count": 32,
      "outputs": []
    },
    {
      "cell_type": "code",
      "metadata": {
        "colab": {
          "base_uri": "https://localhost:8080/",
          "height": 419
        },
        "id": "3JrwdE6UK2AA",
        "outputId": "14caa8e2-57a3-4876-9c76-668ad70f5229"
      },
      "source": [
        "df_ordinal = pd.DataFrame(df_new['year'])\n",
        "df_ordinal"
      ],
      "execution_count": 33,
      "outputs": [
        {
          "output_type": "execute_result",
          "data": {
            "text/html": [
              "<div>\n",
              "<style scoped>\n",
              "    .dataframe tbody tr th:only-of-type {\n",
              "        vertical-align: middle;\n",
              "    }\n",
              "\n",
              "    .dataframe tbody tr th {\n",
              "        vertical-align: top;\n",
              "    }\n",
              "\n",
              "    .dataframe thead th {\n",
              "        text-align: right;\n",
              "    }\n",
              "</style>\n",
              "<table border=\"1\" class=\"dataframe\">\n",
              "  <thead>\n",
              "    <tr style=\"text-align: right;\">\n",
              "      <th></th>\n",
              "      <th>year</th>\n",
              "    </tr>\n",
              "  </thead>\n",
              "  <tbody>\n",
              "    <tr>\n",
              "      <th>0</th>\n",
              "      <td>10</td>\n",
              "    </tr>\n",
              "    <tr>\n",
              "      <th>1</th>\n",
              "      <td>9</td>\n",
              "    </tr>\n",
              "    <tr>\n",
              "      <th>2</th>\n",
              "      <td>9</td>\n",
              "    </tr>\n",
              "    <tr>\n",
              "      <th>3</th>\n",
              "      <td>8</td>\n",
              "    </tr>\n",
              "    <tr>\n",
              "      <th>4</th>\n",
              "      <td>12</td>\n",
              "    </tr>\n",
              "    <tr>\n",
              "      <th>...</th>\n",
              "      <td>...</td>\n",
              "    </tr>\n",
              "    <tr>\n",
              "      <th>1203</th>\n",
              "      <td>14</td>\n",
              "    </tr>\n",
              "    <tr>\n",
              "      <th>1204</th>\n",
              "      <td>15</td>\n",
              "    </tr>\n",
              "    <tr>\n",
              "      <th>1205</th>\n",
              "      <td>11</td>\n",
              "    </tr>\n",
              "    <tr>\n",
              "      <th>1206</th>\n",
              "      <td>11</td>\n",
              "    </tr>\n",
              "    <tr>\n",
              "      <th>1207</th>\n",
              "      <td>11</td>\n",
              "    </tr>\n",
              "  </tbody>\n",
              "</table>\n",
              "<p>1208 rows × 1 columns</p>\n",
              "</div>"
            ],
            "text/plain": [
              "      year\n",
              "0       10\n",
              "1        9\n",
              "2        9\n",
              "3        8\n",
              "4       12\n",
              "...    ...\n",
              "1203    14\n",
              "1204    15\n",
              "1205    11\n",
              "1206    11\n",
              "1207    11\n",
              "\n",
              "[1208 rows x 1 columns]"
            ]
          },
          "metadata": {
            "tags": []
          },
          "execution_count": 33
        }
      ]
    },
    {
      "cell_type": "markdown",
      "metadata": {
        "id": "NKsNj2MRJoTB"
      },
      "source": [
        "One Hot Enfcoding"
      ]
    },
    {
      "cell_type": "code",
      "metadata": {
        "colab": {
          "base_uri": "https://localhost:8080/",
          "height": 419
        },
        "id": "QfCDY82tJYG6",
        "outputId": "4b1288f0-147e-4f75-d06e-9cd06b6c66e3"
      },
      "source": [
        "df_ohe = pd.get_dummies(df_new[['transmission','fuel type2']])\n",
        "df_ohe"
      ],
      "execution_count": 34,
      "outputs": [
        {
          "output_type": "execute_result",
          "data": {
            "text/html": [
              "<div>\n",
              "<style scoped>\n",
              "    .dataframe tbody tr th:only-of-type {\n",
              "        vertical-align: middle;\n",
              "    }\n",
              "\n",
              "    .dataframe tbody tr th {\n",
              "        vertical-align: top;\n",
              "    }\n",
              "\n",
              "    .dataframe thead th {\n",
              "        text-align: right;\n",
              "    }\n",
              "</style>\n",
              "<table border=\"1\" class=\"dataframe\">\n",
              "  <thead>\n",
              "    <tr style=\"text-align: right;\">\n",
              "      <th></th>\n",
              "      <th>transmission_Automatic</th>\n",
              "      <th>transmission_Manual</th>\n",
              "      <th>transmission_Semi-Auto</th>\n",
              "      <th>fuel type2_Diesel</th>\n",
              "      <th>fuel type2_Hybrid</th>\n",
              "      <th>fuel type2_Other</th>\n",
              "      <th>fuel type2_Petrol</th>\n",
              "    </tr>\n",
              "  </thead>\n",
              "  <tbody>\n",
              "    <tr>\n",
              "      <th>0</th>\n",
              "      <td>1</td>\n",
              "      <td>0</td>\n",
              "      <td>0</td>\n",
              "      <td>0</td>\n",
              "      <td>0</td>\n",
              "      <td>0</td>\n",
              "      <td>1</td>\n",
              "    </tr>\n",
              "    <tr>\n",
              "      <th>1</th>\n",
              "      <td>1</td>\n",
              "      <td>0</td>\n",
              "      <td>0</td>\n",
              "      <td>1</td>\n",
              "      <td>0</td>\n",
              "      <td>0</td>\n",
              "      <td>0</td>\n",
              "    </tr>\n",
              "    <tr>\n",
              "      <th>2</th>\n",
              "      <td>1</td>\n",
              "      <td>0</td>\n",
              "      <td>0</td>\n",
              "      <td>1</td>\n",
              "      <td>0</td>\n",
              "      <td>0</td>\n",
              "      <td>0</td>\n",
              "    </tr>\n",
              "    <tr>\n",
              "      <th>3</th>\n",
              "      <td>1</td>\n",
              "      <td>0</td>\n",
              "      <td>0</td>\n",
              "      <td>1</td>\n",
              "      <td>0</td>\n",
              "      <td>0</td>\n",
              "      <td>0</td>\n",
              "    </tr>\n",
              "    <tr>\n",
              "      <th>4</th>\n",
              "      <td>1</td>\n",
              "      <td>0</td>\n",
              "      <td>0</td>\n",
              "      <td>1</td>\n",
              "      <td>0</td>\n",
              "      <td>0</td>\n",
              "      <td>0</td>\n",
              "    </tr>\n",
              "    <tr>\n",
              "      <th>...</th>\n",
              "      <td>...</td>\n",
              "      <td>...</td>\n",
              "      <td>...</td>\n",
              "      <td>...</td>\n",
              "      <td>...</td>\n",
              "      <td>...</td>\n",
              "      <td>...</td>\n",
              "    </tr>\n",
              "    <tr>\n",
              "      <th>1203</th>\n",
              "      <td>0</td>\n",
              "      <td>1</td>\n",
              "      <td>0</td>\n",
              "      <td>1</td>\n",
              "      <td>0</td>\n",
              "      <td>0</td>\n",
              "      <td>0</td>\n",
              "    </tr>\n",
              "    <tr>\n",
              "      <th>1204</th>\n",
              "      <td>1</td>\n",
              "      <td>0</td>\n",
              "      <td>0</td>\n",
              "      <td>1</td>\n",
              "      <td>0</td>\n",
              "      <td>0</td>\n",
              "      <td>0</td>\n",
              "    </tr>\n",
              "    <tr>\n",
              "      <th>1205</th>\n",
              "      <td>0</td>\n",
              "      <td>1</td>\n",
              "      <td>0</td>\n",
              "      <td>1</td>\n",
              "      <td>0</td>\n",
              "      <td>0</td>\n",
              "      <td>0</td>\n",
              "    </tr>\n",
              "    <tr>\n",
              "      <th>1206</th>\n",
              "      <td>1</td>\n",
              "      <td>0</td>\n",
              "      <td>0</td>\n",
              "      <td>1</td>\n",
              "      <td>0</td>\n",
              "      <td>0</td>\n",
              "      <td>0</td>\n",
              "    </tr>\n",
              "    <tr>\n",
              "      <th>1207</th>\n",
              "      <td>1</td>\n",
              "      <td>0</td>\n",
              "      <td>0</td>\n",
              "      <td>1</td>\n",
              "      <td>0</td>\n",
              "      <td>0</td>\n",
              "      <td>0</td>\n",
              "    </tr>\n",
              "  </tbody>\n",
              "</table>\n",
              "<p>1208 rows × 7 columns</p>\n",
              "</div>"
            ],
            "text/plain": [
              "      transmission_Automatic  ...  fuel type2_Petrol\n",
              "0                          1  ...                  1\n",
              "1                          1  ...                  0\n",
              "2                          1  ...                  0\n",
              "3                          1  ...                  0\n",
              "4                          1  ...                  0\n",
              "...                      ...  ...                ...\n",
              "1203                       0  ...                  0\n",
              "1204                       1  ...                  0\n",
              "1205                       0  ...                  0\n",
              "1206                       1  ...                  0\n",
              "1207                       1  ...                  0\n",
              "\n",
              "[1208 rows x 7 columns]"
            ]
          },
          "metadata": {
            "tags": []
          },
          "execution_count": 34
        }
      ]
    },
    {
      "cell_type": "code",
      "metadata": {
        "id": "xml5EYMKL7yt"
      },
      "source": [
        ""
      ],
      "execution_count": 34,
      "outputs": []
    },
    {
      "cell_type": "code",
      "metadata": {
        "colab": {
          "base_uri": "https://localhost:8080/",
          "height": 419
        },
        "id": "3PniRgIxJsi-",
        "outputId": "94e6b377-ef9b-4907-f5fb-11839f6eabd9"
      },
      "source": [
        "scaler = MinMaxScaler()\n",
        "df_scaled = df_new.drop(columns=['transmission','fuel type2','year','price'],axis=1)\n",
        "df_scaled"
      ],
      "execution_count": 35,
      "outputs": [
        {
          "output_type": "execute_result",
          "data": {
            "text/html": [
              "<div>\n",
              "<style scoped>\n",
              "    .dataframe tbody tr th:only-of-type {\n",
              "        vertical-align: middle;\n",
              "    }\n",
              "\n",
              "    .dataframe tbody tr th {\n",
              "        vertical-align: top;\n",
              "    }\n",
              "\n",
              "    .dataframe thead th {\n",
              "        text-align: right;\n",
              "    }\n",
              "</style>\n",
              "<table border=\"1\" class=\"dataframe\">\n",
              "  <thead>\n",
              "    <tr style=\"text-align: right;\">\n",
              "      <th></th>\n",
              "      <th>mileage</th>\n",
              "      <th>fuel type</th>\n",
              "      <th>engine size</th>\n",
              "      <th>mileage2</th>\n",
              "      <th>engine size2</th>\n",
              "    </tr>\n",
              "  </thead>\n",
              "  <tbody>\n",
              "    <tr>\n",
              "      <th>0</th>\n",
              "      <td>44900.0</td>\n",
              "      <td>29.0</td>\n",
              "      <td>160.0</td>\n",
              "      <td>46.3</td>\n",
              "      <td>1.600</td>\n",
              "    </tr>\n",
              "    <tr>\n",
              "      <th>1</th>\n",
              "      <td>88200.0</td>\n",
              "      <td>34.0</td>\n",
              "      <td>125.0</td>\n",
              "      <td>58.9</td>\n",
              "      <td>2.100</td>\n",
              "    </tr>\n",
              "    <tr>\n",
              "      <th>2</th>\n",
              "      <td>115000.0</td>\n",
              "      <td>37.0</td>\n",
              "      <td>145.0</td>\n",
              "      <td>54.3</td>\n",
              "      <td>2.100</td>\n",
              "    </tr>\n",
              "    <tr>\n",
              "      <th>3</th>\n",
              "      <td>69250.0</td>\n",
              "      <td>29.0</td>\n",
              "      <td>150.0</td>\n",
              "      <td>53.3</td>\n",
              "      <td>2.100</td>\n",
              "    </tr>\n",
              "    <tr>\n",
              "      <th>4</th>\n",
              "      <td>49850.0</td>\n",
              "      <td>31.0</td>\n",
              "      <td>30.0</td>\n",
              "      <td>62.8</td>\n",
              "      <td>2.100</td>\n",
              "    </tr>\n",
              "    <tr>\n",
              "      <th>...</th>\n",
              "      <td>...</td>\n",
              "      <td>...</td>\n",
              "      <td>...</td>\n",
              "      <td>...</td>\n",
              "      <td>...</td>\n",
              "    </tr>\n",
              "    <tr>\n",
              "      <th>1203</th>\n",
              "      <td>31357.0</td>\n",
              "      <td>25.0</td>\n",
              "      <td>150.0</td>\n",
              "      <td>70.6</td>\n",
              "      <td>1.598</td>\n",
              "    </tr>\n",
              "    <tr>\n",
              "      <th>1204</th>\n",
              "      <td>28248.0</td>\n",
              "      <td>31.0</td>\n",
              "      <td>150.0</td>\n",
              "      <td>64.2</td>\n",
              "      <td>2.143</td>\n",
              "    </tr>\n",
              "    <tr>\n",
              "      <th>1205</th>\n",
              "      <td>48055.0</td>\n",
              "      <td>31.0</td>\n",
              "      <td>20.0</td>\n",
              "      <td>65.7</td>\n",
              "      <td>2.143</td>\n",
              "    </tr>\n",
              "    <tr>\n",
              "      <th>1206</th>\n",
              "      <td>49865.0</td>\n",
              "      <td>46.0</td>\n",
              "      <td>145.0</td>\n",
              "      <td>56.5</td>\n",
              "      <td>2.143</td>\n",
              "    </tr>\n",
              "    <tr>\n",
              "      <th>1207</th>\n",
              "      <td>55445.0</td>\n",
              "      <td>37.0</td>\n",
              "      <td>30.0</td>\n",
              "      <td>64.2</td>\n",
              "      <td>2.143</td>\n",
              "    </tr>\n",
              "  </tbody>\n",
              "</table>\n",
              "<p>1208 rows × 5 columns</p>\n",
              "</div>"
            ],
            "text/plain": [
              "       mileage  fuel type  engine size  mileage2  engine size2\n",
              "0      44900.0       29.0        160.0      46.3         1.600\n",
              "1      88200.0       34.0        125.0      58.9         2.100\n",
              "2     115000.0       37.0        145.0      54.3         2.100\n",
              "3      69250.0       29.0        150.0      53.3         2.100\n",
              "4      49850.0       31.0         30.0      62.8         2.100\n",
              "...        ...        ...          ...       ...           ...\n",
              "1203   31357.0       25.0        150.0      70.6         1.598\n",
              "1204   28248.0       31.0        150.0      64.2         2.143\n",
              "1205   48055.0       31.0         20.0      65.7         2.143\n",
              "1206   49865.0       46.0        145.0      56.5         2.143\n",
              "1207   55445.0       37.0         30.0      64.2         2.143\n",
              "\n",
              "[1208 rows x 5 columns]"
            ]
          },
          "metadata": {
            "tags": []
          },
          "execution_count": 35
        }
      ]
    },
    {
      "cell_type": "code",
      "metadata": {
        "colab": {
          "base_uri": "https://localhost:8080/"
        },
        "id": "30VXomBdL4Of",
        "outputId": "6f13291d-2eb4-49fc-a660-d0839ddcda87"
      },
      "source": [
        "df_scaled.columns"
      ],
      "execution_count": 36,
      "outputs": [
        {
          "output_type": "execute_result",
          "data": {
            "text/plain": [
              "Index(['mileage', 'fuel type', 'engine size', 'mileage2', 'engine size2'], dtype='object')"
            ]
          },
          "metadata": {
            "tags": []
          },
          "execution_count": 36
        }
      ]
    },
    {
      "cell_type": "code",
      "metadata": {
        "colab": {
          "base_uri": "https://localhost:8080/",
          "height": 419
        },
        "id": "oSJDooR7L-WU",
        "outputId": "dfac7448-59b9-4634-fd9e-bc16bbf07121"
      },
      "source": [
        "df_scaled[['mileage', 'fuel type', 'engine size', 'mileage2', 'engine size2']] = scaler.fit_transform(df_scaled)\n",
        "df_scaled"
      ],
      "execution_count": 37,
      "outputs": [
        {
          "output_type": "execute_result",
          "data": {
            "text/html": [
              "<div>\n",
              "<style scoped>\n",
              "    .dataframe tbody tr th:only-of-type {\n",
              "        vertical-align: middle;\n",
              "    }\n",
              "\n",
              "    .dataframe tbody tr th {\n",
              "        vertical-align: top;\n",
              "    }\n",
              "\n",
              "    .dataframe thead th {\n",
              "        text-align: right;\n",
              "    }\n",
              "</style>\n",
              "<table border=\"1\" class=\"dataframe\">\n",
              "  <thead>\n",
              "    <tr style=\"text-align: right;\">\n",
              "      <th></th>\n",
              "      <th>mileage</th>\n",
              "      <th>fuel type</th>\n",
              "      <th>engine size</th>\n",
              "      <th>mileage2</th>\n",
              "      <th>engine size2</th>\n",
              "    </tr>\n",
              "  </thead>\n",
              "  <tbody>\n",
              "    <tr>\n",
              "      <th>0</th>\n",
              "      <td>0.264074</td>\n",
              "      <td>0.208333</td>\n",
              "      <td>0.275862</td>\n",
              "      <td>0.208969</td>\n",
              "      <td>3.222479e-07</td>\n",
              "    </tr>\n",
              "    <tr>\n",
              "      <th>1</th>\n",
              "      <td>0.518795</td>\n",
              "      <td>0.416667</td>\n",
              "      <td>0.215517</td>\n",
              "      <td>0.321973</td>\n",
              "      <td>8.088422e-05</td>\n",
              "    </tr>\n",
              "    <tr>\n",
              "      <th>2</th>\n",
              "      <td>0.676452</td>\n",
              "      <td>0.541667</td>\n",
              "      <td>0.250000</td>\n",
              "      <td>0.280717</td>\n",
              "      <td>8.088422e-05</td>\n",
              "    </tr>\n",
              "    <tr>\n",
              "      <th>3</th>\n",
              "      <td>0.407318</td>\n",
              "      <td>0.208333</td>\n",
              "      <td>0.258621</td>\n",
              "      <td>0.271749</td>\n",
              "      <td>8.088422e-05</td>\n",
              "    </tr>\n",
              "    <tr>\n",
              "      <th>4</th>\n",
              "      <td>0.293194</td>\n",
              "      <td>0.291667</td>\n",
              "      <td>0.051724</td>\n",
              "      <td>0.356951</td>\n",
              "      <td>8.088422e-05</td>\n",
              "    </tr>\n",
              "    <tr>\n",
              "      <th>...</th>\n",
              "      <td>...</td>\n",
              "      <td>...</td>\n",
              "      <td>...</td>\n",
              "      <td>...</td>\n",
              "      <td>...</td>\n",
              "    </tr>\n",
              "    <tr>\n",
              "      <th>1203</th>\n",
              "      <td>0.184405</td>\n",
              "      <td>0.041667</td>\n",
              "      <td>0.258621</td>\n",
              "      <td>0.426906</td>\n",
              "      <td>0.000000e+00</td>\n",
              "    </tr>\n",
              "    <tr>\n",
              "      <th>1204</th>\n",
              "      <td>0.166116</td>\n",
              "      <td>0.291667</td>\n",
              "      <td>0.258621</td>\n",
              "      <td>0.369507</td>\n",
              "      <td>8.781255e-05</td>\n",
              "    </tr>\n",
              "    <tr>\n",
              "      <th>1205</th>\n",
              "      <td>0.282634</td>\n",
              "      <td>0.291667</td>\n",
              "      <td>0.034483</td>\n",
              "      <td>0.382960</td>\n",
              "      <td>8.781255e-05</td>\n",
              "    </tr>\n",
              "    <tr>\n",
              "      <th>1206</th>\n",
              "      <td>0.293282</td>\n",
              "      <td>0.916667</td>\n",
              "      <td>0.250000</td>\n",
              "      <td>0.300448</td>\n",
              "      <td>8.781255e-05</td>\n",
              "    </tr>\n",
              "    <tr>\n",
              "      <th>1207</th>\n",
              "      <td>0.326107</td>\n",
              "      <td>0.541667</td>\n",
              "      <td>0.051724</td>\n",
              "      <td>0.369507</td>\n",
              "      <td>8.781255e-05</td>\n",
              "    </tr>\n",
              "  </tbody>\n",
              "</table>\n",
              "<p>1208 rows × 5 columns</p>\n",
              "</div>"
            ],
            "text/plain": [
              "       mileage  fuel type  engine size  mileage2  engine size2\n",
              "0     0.264074   0.208333     0.275862  0.208969  3.222479e-07\n",
              "1     0.518795   0.416667     0.215517  0.321973  8.088422e-05\n",
              "2     0.676452   0.541667     0.250000  0.280717  8.088422e-05\n",
              "3     0.407318   0.208333     0.258621  0.271749  8.088422e-05\n",
              "4     0.293194   0.291667     0.051724  0.356951  8.088422e-05\n",
              "...        ...        ...          ...       ...           ...\n",
              "1203  0.184405   0.041667     0.258621  0.426906  0.000000e+00\n",
              "1204  0.166116   0.291667     0.258621  0.369507  8.781255e-05\n",
              "1205  0.282634   0.291667     0.034483  0.382960  8.781255e-05\n",
              "1206  0.293282   0.916667     0.250000  0.300448  8.781255e-05\n",
              "1207  0.326107   0.541667     0.051724  0.369507  8.781255e-05\n",
              "\n",
              "[1208 rows x 5 columns]"
            ]
          },
          "metadata": {
            "tags": []
          },
          "execution_count": 37
        }
      ]
    },
    {
      "cell_type": "code",
      "metadata": {
        "id": "Nyx1nm0OMEQF"
      },
      "source": [
        "df_scaled.reset_index(drop=True,inplace=True)"
      ],
      "execution_count": 38,
      "outputs": []
    },
    {
      "cell_type": "code",
      "metadata": {
        "id": "I-m20LbiMJi1"
      },
      "source": [
        "df_ordinal.reset_index(drop=True,inplace=True)"
      ],
      "execution_count": 39,
      "outputs": []
    },
    {
      "cell_type": "code",
      "metadata": {
        "id": "txzdKXuvMK8W"
      },
      "source": [
        "df_ohe.reset_index(drop=True,inplace=True)"
      ],
      "execution_count": 40,
      "outputs": []
    },
    {
      "cell_type": "code",
      "metadata": {
        "id": "GEtFB2stMMND"
      },
      "source": [
        "dataset = pd.concat([df_scaled,df_ordinal,df_ohe],axis=1)"
      ],
      "execution_count": 41,
      "outputs": []
    },
    {
      "cell_type": "code",
      "metadata": {
        "colab": {
          "base_uri": "https://localhost:8080/"
        },
        "id": "l_a8UqjQMUm3",
        "outputId": "a99a5bd6-e4ee-4612-8c37-b4cf19b73fd3"
      },
      "source": [
        "dataset.info()"
      ],
      "execution_count": 42,
      "outputs": [
        {
          "output_type": "stream",
          "text": [
            "<class 'pandas.core.frame.DataFrame'>\n",
            "RangeIndex: 1208 entries, 0 to 1207\n",
            "Data columns (total 13 columns):\n",
            " #   Column                  Non-Null Count  Dtype  \n",
            "---  ------                  --------------  -----  \n",
            " 0   mileage                 1208 non-null   float64\n",
            " 1   fuel type               1208 non-null   float64\n",
            " 2   engine size             1208 non-null   float64\n",
            " 3   mileage2                1208 non-null   float64\n",
            " 4   engine size2            1208 non-null   float64\n",
            " 5   year                    1208 non-null   int64  \n",
            " 6   transmission_Automatic  1208 non-null   uint8  \n",
            " 7   transmission_Manual     1208 non-null   uint8  \n",
            " 8   transmission_Semi-Auto  1208 non-null   uint8  \n",
            " 9   fuel type2_Diesel       1208 non-null   uint8  \n",
            " 10  fuel type2_Hybrid       1208 non-null   uint8  \n",
            " 11  fuel type2_Other        1208 non-null   uint8  \n",
            " 12  fuel type2_Petrol       1208 non-null   uint8  \n",
            "dtypes: float64(5), int64(1), uint8(7)\n",
            "memory usage: 65.0 KB\n"
          ],
          "name": "stdout"
        }
      ]
    },
    {
      "cell_type": "code",
      "metadata": {
        "colab": {
          "base_uri": "https://localhost:8080/",
          "height": 436
        },
        "id": "XxEgsl-VMwgY",
        "outputId": "f9e7286d-16a4-4659-8ecf-139e00be9568"
      },
      "source": [
        "dataset"
      ],
      "execution_count": 43,
      "outputs": [
        {
          "output_type": "execute_result",
          "data": {
            "text/html": [
              "<div>\n",
              "<style scoped>\n",
              "    .dataframe tbody tr th:only-of-type {\n",
              "        vertical-align: middle;\n",
              "    }\n",
              "\n",
              "    .dataframe tbody tr th {\n",
              "        vertical-align: top;\n",
              "    }\n",
              "\n",
              "    .dataframe thead th {\n",
              "        text-align: right;\n",
              "    }\n",
              "</style>\n",
              "<table border=\"1\" class=\"dataframe\">\n",
              "  <thead>\n",
              "    <tr style=\"text-align: right;\">\n",
              "      <th></th>\n",
              "      <th>mileage</th>\n",
              "      <th>fuel type</th>\n",
              "      <th>engine size</th>\n",
              "      <th>mileage2</th>\n",
              "      <th>engine size2</th>\n",
              "      <th>year</th>\n",
              "      <th>transmission_Automatic</th>\n",
              "      <th>transmission_Manual</th>\n",
              "      <th>transmission_Semi-Auto</th>\n",
              "      <th>fuel type2_Diesel</th>\n",
              "      <th>fuel type2_Hybrid</th>\n",
              "      <th>fuel type2_Other</th>\n",
              "      <th>fuel type2_Petrol</th>\n",
              "    </tr>\n",
              "  </thead>\n",
              "  <tbody>\n",
              "    <tr>\n",
              "      <th>0</th>\n",
              "      <td>0.264074</td>\n",
              "      <td>0.208333</td>\n",
              "      <td>0.275862</td>\n",
              "      <td>0.208969</td>\n",
              "      <td>3.222479e-07</td>\n",
              "      <td>10</td>\n",
              "      <td>1</td>\n",
              "      <td>0</td>\n",
              "      <td>0</td>\n",
              "      <td>0</td>\n",
              "      <td>0</td>\n",
              "      <td>0</td>\n",
              "      <td>1</td>\n",
              "    </tr>\n",
              "    <tr>\n",
              "      <th>1</th>\n",
              "      <td>0.518795</td>\n",
              "      <td>0.416667</td>\n",
              "      <td>0.215517</td>\n",
              "      <td>0.321973</td>\n",
              "      <td>8.088422e-05</td>\n",
              "      <td>9</td>\n",
              "      <td>1</td>\n",
              "      <td>0</td>\n",
              "      <td>0</td>\n",
              "      <td>1</td>\n",
              "      <td>0</td>\n",
              "      <td>0</td>\n",
              "      <td>0</td>\n",
              "    </tr>\n",
              "    <tr>\n",
              "      <th>2</th>\n",
              "      <td>0.676452</td>\n",
              "      <td>0.541667</td>\n",
              "      <td>0.250000</td>\n",
              "      <td>0.280717</td>\n",
              "      <td>8.088422e-05</td>\n",
              "      <td>9</td>\n",
              "      <td>1</td>\n",
              "      <td>0</td>\n",
              "      <td>0</td>\n",
              "      <td>1</td>\n",
              "      <td>0</td>\n",
              "      <td>0</td>\n",
              "      <td>0</td>\n",
              "    </tr>\n",
              "    <tr>\n",
              "      <th>3</th>\n",
              "      <td>0.407318</td>\n",
              "      <td>0.208333</td>\n",
              "      <td>0.258621</td>\n",
              "      <td>0.271749</td>\n",
              "      <td>8.088422e-05</td>\n",
              "      <td>8</td>\n",
              "      <td>1</td>\n",
              "      <td>0</td>\n",
              "      <td>0</td>\n",
              "      <td>1</td>\n",
              "      <td>0</td>\n",
              "      <td>0</td>\n",
              "      <td>0</td>\n",
              "    </tr>\n",
              "    <tr>\n",
              "      <th>4</th>\n",
              "      <td>0.293194</td>\n",
              "      <td>0.291667</td>\n",
              "      <td>0.051724</td>\n",
              "      <td>0.356951</td>\n",
              "      <td>8.088422e-05</td>\n",
              "      <td>12</td>\n",
              "      <td>1</td>\n",
              "      <td>0</td>\n",
              "      <td>0</td>\n",
              "      <td>1</td>\n",
              "      <td>0</td>\n",
              "      <td>0</td>\n",
              "      <td>0</td>\n",
              "    </tr>\n",
              "    <tr>\n",
              "      <th>...</th>\n",
              "      <td>...</td>\n",
              "      <td>...</td>\n",
              "      <td>...</td>\n",
              "      <td>...</td>\n",
              "      <td>...</td>\n",
              "      <td>...</td>\n",
              "      <td>...</td>\n",
              "      <td>...</td>\n",
              "      <td>...</td>\n",
              "      <td>...</td>\n",
              "      <td>...</td>\n",
              "      <td>...</td>\n",
              "      <td>...</td>\n",
              "    </tr>\n",
              "    <tr>\n",
              "      <th>1203</th>\n",
              "      <td>0.184405</td>\n",
              "      <td>0.041667</td>\n",
              "      <td>0.258621</td>\n",
              "      <td>0.426906</td>\n",
              "      <td>0.000000e+00</td>\n",
              "      <td>14</td>\n",
              "      <td>0</td>\n",
              "      <td>1</td>\n",
              "      <td>0</td>\n",
              "      <td>1</td>\n",
              "      <td>0</td>\n",
              "      <td>0</td>\n",
              "      <td>0</td>\n",
              "    </tr>\n",
              "    <tr>\n",
              "      <th>1204</th>\n",
              "      <td>0.166116</td>\n",
              "      <td>0.291667</td>\n",
              "      <td>0.258621</td>\n",
              "      <td>0.369507</td>\n",
              "      <td>8.781255e-05</td>\n",
              "      <td>15</td>\n",
              "      <td>1</td>\n",
              "      <td>0</td>\n",
              "      <td>0</td>\n",
              "      <td>1</td>\n",
              "      <td>0</td>\n",
              "      <td>0</td>\n",
              "      <td>0</td>\n",
              "    </tr>\n",
              "    <tr>\n",
              "      <th>1205</th>\n",
              "      <td>0.282634</td>\n",
              "      <td>0.291667</td>\n",
              "      <td>0.034483</td>\n",
              "      <td>0.382960</td>\n",
              "      <td>8.781255e-05</td>\n",
              "      <td>11</td>\n",
              "      <td>0</td>\n",
              "      <td>1</td>\n",
              "      <td>0</td>\n",
              "      <td>1</td>\n",
              "      <td>0</td>\n",
              "      <td>0</td>\n",
              "      <td>0</td>\n",
              "    </tr>\n",
              "    <tr>\n",
              "      <th>1206</th>\n",
              "      <td>0.293282</td>\n",
              "      <td>0.916667</td>\n",
              "      <td>0.250000</td>\n",
              "      <td>0.300448</td>\n",
              "      <td>8.781255e-05</td>\n",
              "      <td>11</td>\n",
              "      <td>1</td>\n",
              "      <td>0</td>\n",
              "      <td>0</td>\n",
              "      <td>1</td>\n",
              "      <td>0</td>\n",
              "      <td>0</td>\n",
              "      <td>0</td>\n",
              "    </tr>\n",
              "    <tr>\n",
              "      <th>1207</th>\n",
              "      <td>0.326107</td>\n",
              "      <td>0.541667</td>\n",
              "      <td>0.051724</td>\n",
              "      <td>0.369507</td>\n",
              "      <td>8.781255e-05</td>\n",
              "      <td>11</td>\n",
              "      <td>1</td>\n",
              "      <td>0</td>\n",
              "      <td>0</td>\n",
              "      <td>1</td>\n",
              "      <td>0</td>\n",
              "      <td>0</td>\n",
              "      <td>0</td>\n",
              "    </tr>\n",
              "  </tbody>\n",
              "</table>\n",
              "<p>1208 rows × 13 columns</p>\n",
              "</div>"
            ],
            "text/plain": [
              "       mileage  fuel type  ...  fuel type2_Other  fuel type2_Petrol\n",
              "0     0.264074   0.208333  ...                 0                  1\n",
              "1     0.518795   0.416667  ...                 0                  0\n",
              "2     0.676452   0.541667  ...                 0                  0\n",
              "3     0.407318   0.208333  ...                 0                  0\n",
              "4     0.293194   0.291667  ...                 0                  0\n",
              "...        ...        ...  ...               ...                ...\n",
              "1203  0.184405   0.041667  ...                 0                  0\n",
              "1204  0.166116   0.291667  ...                 0                  0\n",
              "1205  0.282634   0.291667  ...                 0                  0\n",
              "1206  0.293282   0.916667  ...                 0                  0\n",
              "1207  0.326107   0.541667  ...                 0                  0\n",
              "\n",
              "[1208 rows x 13 columns]"
            ]
          },
          "metadata": {
            "tags": []
          },
          "execution_count": 43
        }
      ]
    },
    {
      "cell_type": "markdown",
      "metadata": {
        "id": "l84bddFhMbFx"
      },
      "source": [
        "### 4.Model Training"
      ]
    },
    {
      "cell_type": "code",
      "metadata": {
        "id": "vfmSG3iYMYnl"
      },
      "source": [
        "### 3.Model Training"
      ],
      "execution_count": 44,
      "outputs": []
    },
    {
      "cell_type": "code",
      "metadata": {
        "id": "L-E0MdVMMWIl"
      },
      "source": [
        "X = dataset\n",
        "y = df_new['price']"
      ],
      "execution_count": 45,
      "outputs": []
    },
    {
      "cell_type": "code",
      "metadata": {
        "colab": {
          "base_uri": "https://localhost:8080/"
        },
        "id": "33nFsnArMh5G",
        "outputId": "f8e80124-5e7e-4b25-e793-e33f46738453"
      },
      "source": [
        "X.shape"
      ],
      "execution_count": 46,
      "outputs": [
        {
          "output_type": "execute_result",
          "data": {
            "text/plain": [
              "(1208, 13)"
            ]
          },
          "metadata": {
            "tags": []
          },
          "execution_count": 46
        }
      ]
    },
    {
      "cell_type": "code",
      "metadata": {
        "colab": {
          "base_uri": "https://localhost:8080/"
        },
        "id": "fSDLENdrMi24",
        "outputId": "997e09b6-10d3-42de-e227-73a06485d6a7"
      },
      "source": [
        "y.shape"
      ],
      "execution_count": 47,
      "outputs": [
        {
          "output_type": "execute_result",
          "data": {
            "text/plain": [
              "(1208,)"
            ]
          },
          "metadata": {
            "tags": []
          },
          "execution_count": 47
        }
      ]
    },
    {
      "cell_type": "code",
      "metadata": {
        "id": "32MW8qqGMkDD"
      },
      "source": [
        "X_train, X_test, y_train, y_test = train_test_split(X, y, test_size = 0.3, random_state=10)"
      ],
      "execution_count": 48,
      "outputs": []
    },
    {
      "cell_type": "code",
      "metadata": {
        "id": "IuUrOAb-M13s"
      },
      "source": [
        "lr = LinearRegression()\n",
        "knn = KNeighborsRegressor()\n",
        "rf = RandomForestRegressor()"
      ],
      "execution_count": 50,
      "outputs": []
    },
    {
      "cell_type": "markdown",
      "metadata": {
        "id": "E82gJsHwNUwk"
      },
      "source": [
        "Tanpa cross validation "
      ]
    },
    {
      "cell_type": "code",
      "metadata": {
        "id": "0cooAcClNxFe"
      },
      "source": [
        "#mean_squared_error,r2_score"
      ],
      "execution_count": 51,
      "outputs": []
    },
    {
      "cell_type": "code",
      "metadata": {
        "colab": {
          "base_uri": "https://localhost:8080/"
        },
        "id": "n5ayvdfSNDvU",
        "outputId": "2d400866-bb2b-4df7-f6c9-b4248aa791d9"
      },
      "source": [
        "lr = lr.fit(X_train,y_train)\n",
        "lr_y_pred = lr.predict(X_test)\n",
        "print('R-squared linear reggresion: ', r2_score(y_test, lr_y_pred))\n",
        "print('MSE linear reggresion: ', mean_squared_error(y_test, lr_y_pred))"
      ],
      "execution_count": 52,
      "outputs": [
        {
          "output_type": "stream",
          "text": [
            "R-squared linear reggresion:  0.8076873549924377\n",
            "MSE linear reggresion:  4483269.744149527\n"
          ],
          "name": "stdout"
        }
      ]
    },
    {
      "cell_type": "code",
      "metadata": {
        "colab": {
          "base_uri": "https://localhost:8080/"
        },
        "id": "D5HQCtTdNOJI",
        "outputId": "32afa5ed-b760-45b9-a990-c5a4acfb49dd"
      },
      "source": [
        "knn = knn.fit(X_train,y_train)\n",
        "knn_y_pred = lr.predict(X_test)\n",
        "print('R-squared knn: ', r2_score(y_test, knn_y_pred))\n",
        "print('MSE linear knn: ', mean_squared_error(y_test, knn_y_pred))"
      ],
      "execution_count": 53,
      "outputs": [
        {
          "output_type": "stream",
          "text": [
            "R-squared knn:  0.8076873549924377\n",
            "MSE linear knn:  4483269.744149527\n"
          ],
          "name": "stdout"
        }
      ]
    },
    {
      "cell_type": "code",
      "metadata": {
        "colab": {
          "base_uri": "https://localhost:8080/"
        },
        "id": "ft0oUi_YONR3",
        "outputId": "7b925c5e-828d-4f21-e625-69b8dc62b2ea"
      },
      "source": [
        "rf = rf.fit(X_train,y_train)\n",
        "rf_y_pred = lr.predict(X_test)\n",
        "print('R-squared random forrest: ', r2_score(y_test, rf_y_pred))\n",
        "print('MSE linear random forrest: ', mean_squared_error(y_test, rf_y_pred))"
      ],
      "execution_count": 57,
      "outputs": [
        {
          "output_type": "stream",
          "text": [
            "R-squared random forrest:  0.8076873549924377\n",
            "MSE linear random forrest:  4483269.744149527\n"
          ],
          "name": "stdout"
        }
      ]
    },
    {
      "cell_type": "markdown",
      "metadata": {
        "id": "oaIFSOT6Obr1"
      },
      "source": [
        " Cross validation "
      ]
    },
    {
      "cell_type": "code",
      "metadata": {
        "colab": {
          "base_uri": "https://localhost:8080/"
        },
        "id": "wMa4-VwvOZ5s",
        "outputId": "3fc2f766-0fd0-4336-8fc8-d6041fbcf9c7"
      },
      "source": [
        "folds = KFold(n_splits = 5,random_state = 42)\n",
        "lr_cv = cross_val_score(lr,X_train,y_train,cv=folds,scoring='r2').mean()\n",
        "knn_cv = cross_val_score(knn,X_train,y_train,cv=folds,scoring='r2').mean()\n",
        "rf_cv = cross_val_score(rf,X_train,y_train,cv=folds,scoring='r2').mean()"
      ],
      "execution_count": 55,
      "outputs": [
        {
          "output_type": "stream",
          "text": [
            "/usr/local/lib/python3.7/dist-packages/sklearn/model_selection/_split.py:296: FutureWarning: Setting a random_state has no effect since shuffle is False. This will raise an error in 0.24. You should leave random_state to its default (None), or set shuffle=True.\n",
            "  FutureWarning\n"
          ],
          "name": "stderr"
        }
      ]
    },
    {
      "cell_type": "code",
      "metadata": {
        "colab": {
          "base_uri": "https://localhost:8080/"
        },
        "id": "DH8eNrQxOUp-",
        "outputId": "a55f6029-f169-4988-9ccb-623fecbf45a6"
      },
      "source": [
        "print('Logistitic Regression Cross Val :' ,lr_cv)\n",
        "print('knn Cross Val :' ,knn_cv )\n",
        "print('Random Forrest Cross Val :' ,rf_cv)"
      ],
      "execution_count": 58,
      "outputs": [
        {
          "output_type": "stream",
          "text": [
            "Logistitic Regression Cross Val : 0.7572972482458336\n",
            "knn Cross Val : 0.7875252953197157\n",
            "Random Forrest Cross Val : 0.920099087384249\n"
          ],
          "name": "stdout"
        }
      ]
    },
    {
      "cell_type": "markdown",
      "metadata": {
        "id": "4ItM0HcTP-sI"
      },
      "source": [
        "### 5. Evaluation, Model Selection, and Model Tuning"
      ]
    },
    {
      "cell_type": "markdown",
      "metadata": {
        "id": "c_w3yc2RQBU6"
      },
      "source": [
        "Dari hasil Traningn ke 3 model dengan menggunakan cross valadation dan scoring yang digunakan adalah r2_score didapatkan hasil berikut :\n",
        "\n",
        "* Logistitic Regression Cross Val : 0.7572972482458336\n",
        "* knn Cross Val : 0.7875252953197157\n",
        "* Random Forrest Cross Val : 0.9213235537770915\n",
        "\n",
        "Model yang dipilih pada kasus ini adalah Random Forrest dan akan dilakukan tunning"
      ]
    },
    {
      "cell_type": "markdown",
      "metadata": {
        "id": "exzd78JEQMRg"
      },
      "source": [
        "### Hyper-parameter Tuning"
      ]
    },
    {
      "cell_type": "code",
      "metadata": {
        "colab": {
          "base_uri": "https://localhost:8080/"
        },
        "id": "0kwzBwnoQK_I",
        "outputId": "7dd4f8d0-a593-4b98-97d5-ccdfcb9cf9eb"
      },
      "source": [
        "param_grid = {\n",
        "    'n_estimators': [50,100],\n",
        "    'min_samples_split': [2,10],\n",
        "    'min_samples_leaf': [1,5],\n",
        "    'max_features': ['auto', 'log2']\n",
        "}\n",
        "\n",
        "grid_search = GridSearchCV(\n",
        "    RandomForestRegressor(n_jobs=-1),\n",
        "    param_grid,\n",
        "    cv=folds\n",
        ")\n",
        "\n",
        "grid_search.fit(X_train, y_train)"
      ],
      "execution_count": 59,
      "outputs": [
        {
          "output_type": "execute_result",
          "data": {
            "text/plain": [
              "GridSearchCV(cv=KFold(n_splits=5, random_state=42, shuffle=False),\n",
              "             error_score=nan,\n",
              "             estimator=RandomForestRegressor(bootstrap=True, ccp_alpha=0.0,\n",
              "                                             criterion='mse', max_depth=None,\n",
              "                                             max_features='auto',\n",
              "                                             max_leaf_nodes=None,\n",
              "                                             max_samples=None,\n",
              "                                             min_impurity_decrease=0.0,\n",
              "                                             min_impurity_split=None,\n",
              "                                             min_samples_leaf=1,\n",
              "                                             min_samples_split=2,\n",
              "                                             min_weight_fraction_leaf=0.0,\n",
              "                                             n_estimators=100, n_jobs=-1,\n",
              "                                             oob_score=False, random_state=None,\n",
              "                                             verbose=0, warm_start=False),\n",
              "             iid='deprecated', n_jobs=None,\n",
              "             param_grid={'max_features': ['auto', 'log2'],\n",
              "                         'min_samples_leaf': [1, 5],\n",
              "                         'min_samples_split': [2, 10],\n",
              "                         'n_estimators': [50, 100]},\n",
              "             pre_dispatch='2*n_jobs', refit=True, return_train_score=False,\n",
              "             scoring=None, verbose=0)"
            ]
          },
          "metadata": {
            "tags": []
          },
          "execution_count": 59
        }
      ]
    },
    {
      "cell_type": "code",
      "metadata": {
        "colab": {
          "base_uri": "https://localhost:8080/"
        },
        "id": "0xjLt9cdP96c",
        "outputId": "32ca589a-ccc8-46ef-dbf4-55e43fc653a8"
      },
      "source": [
        "grid_search.best_estimator_"
      ],
      "execution_count": 60,
      "outputs": [
        {
          "output_type": "execute_result",
          "data": {
            "text/plain": [
              "RandomForestRegressor(bootstrap=True, ccp_alpha=0.0, criterion='mse',\n",
              "                      max_depth=None, max_features='auto', max_leaf_nodes=None,\n",
              "                      max_samples=None, min_impurity_decrease=0.0,\n",
              "                      min_impurity_split=None, min_samples_leaf=1,\n",
              "                      min_samples_split=2, min_weight_fraction_leaf=0.0,\n",
              "                      n_estimators=50, n_jobs=-1, oob_score=False,\n",
              "                      random_state=None, verbose=0, warm_start=False)"
            ]
          },
          "metadata": {
            "tags": []
          },
          "execution_count": 60
        }
      ]
    },
    {
      "cell_type": "code",
      "metadata": {
        "colab": {
          "base_uri": "https://localhost:8080/"
        },
        "id": "O5dr2w6UQYDL",
        "outputId": "58ee46b5-a25a-4b3c-858f-f22432c6253b"
      },
      "source": [
        "grid_search.best_params_"
      ],
      "execution_count": 61,
      "outputs": [
        {
          "output_type": "execute_result",
          "data": {
            "text/plain": [
              "{'max_features': 'auto',\n",
              " 'min_samples_leaf': 1,\n",
              " 'min_samples_split': 2,\n",
              " 'n_estimators': 50}"
            ]
          },
          "metadata": {
            "tags": []
          },
          "execution_count": 61
        }
      ]
    },
    {
      "cell_type": "code",
      "metadata": {
        "id": "LszAolTFQac6"
      },
      "source": [
        "best_model = grid_search.best_estimator_.fit(X_train, y_train)"
      ],
      "execution_count": 62,
      "outputs": []
    },
    {
      "cell_type": "code",
      "metadata": {
        "id": "jnNckaeiQoe7"
      },
      "source": [
        "y_pred = best_model.predict(X_test)"
      ],
      "execution_count": 63,
      "outputs": []
    },
    {
      "cell_type": "code",
      "metadata": {
        "colab": {
          "base_uri": "https://localhost:8080/"
        },
        "id": "LMZ24IjpQpEh",
        "outputId": "b77b4944-3749-41e9-d0ab-b827ead84f1d"
      },
      "source": [
        "r2 = r2_score(y_test,y_pred)\n",
        "mse = mean_squared_error(y_test,y_pred)\n",
        "print('Random Forrest - Tunning MSE:', mse)\n",
        "print('Random Forrest - Tunning r2:',r2)"
      ],
      "execution_count": 64,
      "outputs": [
        {
          "output_type": "stream",
          "text": [
            "Random Forrest - Tunning MSE: 1582796.3194391183\n",
            "Random Forrest - Tunning r2: 0.9321049671176289\n"
          ],
          "name": "stdout"
        }
      ]
    },
    {
      "cell_type": "markdown",
      "metadata": {
        "id": "dKRFlx-OS9GO"
      },
      "source": [
        "### 6. Result, Conclusion, and Recommendation "
      ]
    },
    {
      "cell_type": "markdown",
      "metadata": {
        "id": "Jx1R-V5aTNiC"
      },
      "source": [
        "Dalam model Machine Learning ada beberapa metode yang diterapkan:\n",
        "\n",
        "* Sebagai user perlu sangat mempertimbangka umur mobil, dan milage sebelum membeli, karena dua feature tersebut mempunya nilai korelasi yang sangat besar\n",
        "\n",
        "*   Data Cleaning, dikarenakan data yang sangat kotor, banyak sekali data yang kosong, dan tidak pada tempatnya : tipe data object akan tetapi mewakili numerikal, seperti pada price terdapat currecy label dll\n",
        "*   Membagi feature yang berisi data kategorikal dan numerikal dan melakukan encoding pada data kategorikal, pada kasus ini digunakan dua cara encoding yaitu : Ordinal encoding pada = tahun, dan sisanya ohe hot encoding\n",
        "* Scaling pada data yang bersifat numerical\n",
        "*   Pada Model training menggunakan 3 yaitu Linear Reggresion, KNN, dan Random Forrest \n",
        "* Didapatkan model terbaik yaitu random forrest, selanjutnya dilakukan hyper parameter tunnig menggunaka grid search\n",
        "\n",
        "\n",
        "**Conclusion**\n",
        "\n",
        "Random Forrest dengan perlakuan tunning pada kasus ini merupakan model terbaik karena memilki r2.score = 0.93 ~ 93%, tidak begitu signifikan kenaikan nilai r2 nya setelah ditunning, hanya naik sekitar 0.01, atau sekitar 1%. Diharapkan model ini berguna untuk user yang ingin membeli mobil mercedes CCclass\n",
        "\n"
      ]
    },
    {
      "cell_type": "code",
      "metadata": {
        "id": "h9Orf61PQ6EF"
      },
      "source": [
        ""
      ],
      "execution_count": null,
      "outputs": []
    }
  ]
}